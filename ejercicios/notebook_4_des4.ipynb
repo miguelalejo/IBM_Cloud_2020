{
 "cells": [
  {
   "cell_type": "markdown",
   "metadata": {},
   "source": [
    "# MARATONA BEHIND THE CODE 2020\n",
    "\n",
    "## DESAFIO 4 - CompuSoluciones"
   ]
  },
  {
   "cell_type": "markdown",
   "metadata": {},
   "source": [
    "### Introducción"
   ]
  },
  {
   "cell_type": "markdown",
   "metadata": {},
   "source": [
    "En este desafío, CompuSoluciones usará herramientas de IBM como Watson Studio (o Cloud Pack for Data) y Watson Machine Learning para construir un modelo de Machine Learning natural capaz de predecir la probabilidad de cumplimiento de pago.\n",
    "\n",
    "La idea esencial del Desafío 4 es crear un modelo basado en machine learning capaz de identificar el comportamiento financiero del asociado de negocio, permitiendo una probabilidad de cumplimiento o incumplimiento del crédito."
   ]
  },
  {
   "cell_type": "markdown",
   "metadata": {},
   "source": [
    "<hr>"
   ]
  },
  {
   "cell_type": "markdown",
   "metadata": {},
   "source": [
    "### Instalación de Librerias"
   ]
  },
  {
   "cell_type": "code",
   "execution_count": 1,
   "metadata": {},
   "outputs": [
    {
     "name": "stdout",
     "output_type": "stream",
     "text": [
      "/bin/bash: pip: command not found\n",
      "/bin/bash: pip: command not found\n"
     ]
    }
   ],
   "source": [
    "!pip install scikit-learn --upgrade\n",
    "!pip install -U imbalanced-learn"
   ]
  },
  {
   "cell_type": "code",
   "execution_count": 2,
   "metadata": {},
   "outputs": [
    {
     "name": "stdout",
     "output_type": "stream",
     "text": [
      "/bin/bash: pip: command not found\n"
     ]
    }
   ],
   "source": [
    "# Si desea utilizar la biblioteca ** xgboost **, instale la versión 0.71.\n",
    "!pip install xgboost==0.71 --upgrade"
   ]
  },
  {
   "cell_type": "code",
   "execution_count": 3,
   "metadata": {},
   "outputs": [],
   "source": [
    "import json\n",
    "import requests\n",
    "import pandas as pd\n",
    "import numpy as np\n",
    "from scipy import stats\n",
    "from datetime import datetime\n",
    "from sklearn import preprocessing\n",
    "from sklearn.model_selection import KFold\n",
    "from sklearn.impute import SimpleImputer\n",
    "from sklearn.model_selection import train_test_split\n",
    "from sklearn.pipeline import Pipeline\n",
    "import matplotlib.pyplot as plt\n",
    "from xgboost import XGBClassifier\n",
    "import seaborn as sns\n",
    "from sklearn.base import BaseEstimator, TransformerMixin\n",
    "from sklearn.compose import ColumnTransformer\n",
    "from sklearn.ensemble import RandomForestClassifier, VotingClassifier, AdaBoostClassifier\n",
    "from sklearn.preprocessing import StandardScaler\n",
    "from sklearn.neural_network import MLPClassifier\n",
    "from sklearn.metrics import accuracy_score, f1_score, confusion_matrix, classification_report\n",
    "from sklearn.model_selection import KFold, cross_validate, cross_val_score, RandomizedSearchCV\n",
    "from imblearn.under_sampling import RandomUnderSampler"
   ]
  },
  {
   "cell_type": "markdown",
   "metadata": {},
   "source": [
    "### Descargando el dataset csv desde Github"
   ]
  },
  {
   "cell_type": "code",
   "execution_count": 4,
   "metadata": {},
   "outputs": [
    {
     "name": "stdout",
     "output_type": "stream",
     "text": [
      "--2020-09-08 14:02:50--  https://raw.githubusercontent.com/vanderlei-test/dataset/master/reto-4-compu-train.csv\n",
      "Resolving raw.githubusercontent.com (raw.githubusercontent.com)... 151.101.204.133\n",
      "Connecting to raw.githubusercontent.com (raw.githubusercontent.com)|151.101.204.133|:443... connected.\n",
      "HTTP request sent, awaiting response... 200 OK\n",
      "Length: 1751735 (1.7M) [text/plain]\n",
      "Saving to: ‘reto-4-compu-train.csv.29’\n",
      "\n",
      "reto-4-compu-train. 100%[===================>]   1.67M   298KB/s    in 5.5s    \n",
      "\n",
      "2020-09-08 14:02:56 (310 KB/s) - ‘reto-4-compu-train.csv.29’ saved [1751735/1751735]\n",
      "\n"
     ]
    }
   ],
   "source": [
    "!wget --no-check-certificate --content-disposition https://raw.githubusercontent.com/vanderlei-test/dataset/master/reto-4-compu-train.csv"
   ]
  },
  {
   "cell_type": "code",
   "execution_count": 5,
   "metadata": {},
   "outputs": [
    {
     "data": {
      "text/html": [
       "<div>\n",
       "<style scoped>\n",
       "    .dataframe tbody tr th:only-of-type {\n",
       "        vertical-align: middle;\n",
       "    }\n",
       "\n",
       "    .dataframe tbody tr th {\n",
       "        vertical-align: top;\n",
       "    }\n",
       "\n",
       "    .dataframe thead th {\n",
       "        text-align: right;\n",
       "    }\n",
       "</style>\n",
       "<table border=\"1\" class=\"dataframe\">\n",
       "  <thead>\n",
       "    <tr style=\"text-align: right;\">\n",
       "      <th></th>\n",
       "      <th>EFECTIVO</th>\n",
       "      <th>CXC</th>\n",
       "      <th>INVENTARIO</th>\n",
       "      <th>EQ_OFICINA</th>\n",
       "      <th>EQ_TRANSPORTE</th>\n",
       "      <th>TERRENOS_Y_CONSTRUCCIONES</th>\n",
       "      <th>CXP</th>\n",
       "      <th>CONTRIBUCIONES_X_PAGAR</th>\n",
       "      <th>ANTICIPOS_CTE</th>\n",
       "      <th>CAP_SOCIAL</th>\n",
       "      <th>UTILIDADES_ACUMULADAS</th>\n",
       "      <th>UTILIDAD_O_PERDIDA</th>\n",
       "      <th>TOTAL_VENTAS</th>\n",
       "      <th>TOTAL_COMPRAS</th>\n",
       "      <th>UTILIDAD_BRUTA</th>\n",
       "      <th>TOTAL_GASTOS</th>\n",
       "      <th>OBJETIVO</th>\n",
       "    </tr>\n",
       "  </thead>\n",
       "  <tbody>\n",
       "    <tr>\n",
       "      <th>0</th>\n",
       "      <td>NaN</td>\n",
       "      <td>7.710800e+06</td>\n",
       "      <td>NaN</td>\n",
       "      <td>1.237449e+06</td>\n",
       "      <td>2.947057e+05</td>\n",
       "      <td>8.812520e+06</td>\n",
       "      <td>4.547214e+07</td>\n",
       "      <td>239671.50090</td>\n",
       "      <td>1.257907e+06</td>\n",
       "      <td>2356497.733</td>\n",
       "      <td>-6.009930e+06</td>\n",
       "      <td>-6.816681e+06</td>\n",
       "      <td>41309820.53</td>\n",
       "      <td>6.872572e+07</td>\n",
       "      <td>6298390.104</td>\n",
       "      <td>1.505762e+07</td>\n",
       "      <td>Aceptado</td>\n",
       "    </tr>\n",
       "    <tr>\n",
       "      <th>1</th>\n",
       "      <td>7.437098e+04</td>\n",
       "      <td>2.213116e+06</td>\n",
       "      <td>NaN</td>\n",
       "      <td>1.335531e+05</td>\n",
       "      <td>4.000109e+05</td>\n",
       "      <td>8.491851e+06</td>\n",
       "      <td>1.573254e+07</td>\n",
       "      <td>94809.20697</td>\n",
       "      <td>6.708985e+05</td>\n",
       "      <td>NaN</td>\n",
       "      <td>-7.980962e+06</td>\n",
       "      <td>-3.342452e+06</td>\n",
       "      <td>NaN</td>\n",
       "      <td>3.588274e+07</td>\n",
       "      <td>NaN</td>\n",
       "      <td>1.085156e+07</td>\n",
       "      <td>Aceptado</td>\n",
       "    </tr>\n",
       "    <tr>\n",
       "      <th>2</th>\n",
       "      <td>5.269987e+06</td>\n",
       "      <td>2.893119e+07</td>\n",
       "      <td>3.983352e+05</td>\n",
       "      <td>1.533061e+07</td>\n",
       "      <td>3.478673e+06</td>\n",
       "      <td>-1.393229e+07</td>\n",
       "      <td>NaN</td>\n",
       "      <td>610814.63990</td>\n",
       "      <td>1.009937e+07</td>\n",
       "      <td>1444426.243</td>\n",
       "      <td>NaN</td>\n",
       "      <td>-4.026344e+06</td>\n",
       "      <td>NaN</td>\n",
       "      <td>3.292337e+08</td>\n",
       "      <td>NaN</td>\n",
       "      <td>8.680735e+06</td>\n",
       "      <td>Sospechoso</td>\n",
       "    </tr>\n",
       "    <tr>\n",
       "      <th>3</th>\n",
       "      <td>9.092134e+05</td>\n",
       "      <td>1.145092e+07</td>\n",
       "      <td>9.577823e+06</td>\n",
       "      <td>1.068692e+06</td>\n",
       "      <td>1.302021e+06</td>\n",
       "      <td>1.379064e+06</td>\n",
       "      <td>NaN</td>\n",
       "      <td>NaN</td>\n",
       "      <td>2.378928e+06</td>\n",
       "      <td>1236065.779</td>\n",
       "      <td>NaN</td>\n",
       "      <td>-4.567435e+06</td>\n",
       "      <td>76310275.60</td>\n",
       "      <td>NaN</td>\n",
       "      <td>NaN</td>\n",
       "      <td>1.323267e+07</td>\n",
       "      <td>Aceptado</td>\n",
       "    </tr>\n",
       "    <tr>\n",
       "      <th>4</th>\n",
       "      <td>9.688669e+05</td>\n",
       "      <td>8.539206e+06</td>\n",
       "      <td>3.898283e+06</td>\n",
       "      <td>4.168733e+05</td>\n",
       "      <td>NaN</td>\n",
       "      <td>-6.297179e+05</td>\n",
       "      <td>7.620711e+06</td>\n",
       "      <td>116647.73960</td>\n",
       "      <td>1.798065e+06</td>\n",
       "      <td>3657339.603</td>\n",
       "      <td>7.702845e+05</td>\n",
       "      <td>-7.110320e+05</td>\n",
       "      <td>62901614.29</td>\n",
       "      <td>3.614260e+07</td>\n",
       "      <td>6850340.403</td>\n",
       "      <td>1.100048e+07</td>\n",
       "      <td>Aceptado</td>\n",
       "    </tr>\n",
       "  </tbody>\n",
       "</table>\n",
       "</div>"
      ],
      "text/plain": [
       "       EFECTIVO           CXC    INVENTARIO    EQ_OFICINA  EQ_TRANSPORTE  \\\n",
       "0           NaN  7.710800e+06           NaN  1.237449e+06   2.947057e+05   \n",
       "1  7.437098e+04  2.213116e+06           NaN  1.335531e+05   4.000109e+05   \n",
       "2  5.269987e+06  2.893119e+07  3.983352e+05  1.533061e+07   3.478673e+06   \n",
       "3  9.092134e+05  1.145092e+07  9.577823e+06  1.068692e+06   1.302021e+06   \n",
       "4  9.688669e+05  8.539206e+06  3.898283e+06  4.168733e+05            NaN   \n",
       "\n",
       "   TERRENOS_Y_CONSTRUCCIONES           CXP  CONTRIBUCIONES_X_PAGAR  \\\n",
       "0               8.812520e+06  4.547214e+07            239671.50090   \n",
       "1               8.491851e+06  1.573254e+07             94809.20697   \n",
       "2              -1.393229e+07           NaN            610814.63990   \n",
       "3               1.379064e+06           NaN                     NaN   \n",
       "4              -6.297179e+05  7.620711e+06            116647.73960   \n",
       "\n",
       "   ANTICIPOS_CTE   CAP_SOCIAL  UTILIDADES_ACUMULADAS  UTILIDAD_O_PERDIDA  \\\n",
       "0   1.257907e+06  2356497.733          -6.009930e+06       -6.816681e+06   \n",
       "1   6.708985e+05          NaN          -7.980962e+06       -3.342452e+06   \n",
       "2   1.009937e+07  1444426.243                    NaN       -4.026344e+06   \n",
       "3   2.378928e+06  1236065.779                    NaN       -4.567435e+06   \n",
       "4   1.798065e+06  3657339.603           7.702845e+05       -7.110320e+05   \n",
       "\n",
       "   TOTAL_VENTAS  TOTAL_COMPRAS  UTILIDAD_BRUTA  TOTAL_GASTOS    OBJETIVO  \n",
       "0   41309820.53   6.872572e+07     6298390.104  1.505762e+07    Aceptado  \n",
       "1           NaN   3.588274e+07             NaN  1.085156e+07    Aceptado  \n",
       "2           NaN   3.292337e+08             NaN  8.680735e+06  Sospechoso  \n",
       "3   76310275.60            NaN             NaN  1.323267e+07    Aceptado  \n",
       "4   62901614.29   3.614260e+07     6850340.403  1.100048e+07    Aceptado  "
      ]
     },
     "execution_count": 5,
     "metadata": {},
     "output_type": "execute_result"
    }
   ],
   "source": [
    "df = pd.read_csv(r'reto-4-compu-train.csv')\n",
    "df.head()"
   ]
  },
  {
   "cell_type": "markdown",
   "metadata": {},
   "source": [
    "### Acerca del Dataset"
   ]
  },
  {
   "cell_type": "code",
   "execution_count": 6,
   "metadata": {},
   "outputs": [
    {
     "name": "stdout",
     "output_type": "stream",
     "text": [
      "<class 'pandas.core.frame.DataFrame'>\n",
      "RangeIndex: 9400 entries, 0 to 9399\n",
      "Data columns (total 17 columns):\n",
      " #   Column                     Non-Null Count  Dtype  \n",
      "---  ------                     --------------  -----  \n",
      " 0   EFECTIVO                   7986 non-null   float64\n",
      " 1   CXC                        7968 non-null   float64\n",
      " 2   INVENTARIO                 8000 non-null   float64\n",
      " 3   EQ_OFICINA                 7945 non-null   float64\n",
      " 4   EQ_TRANSPORTE              7988 non-null   float64\n",
      " 5   TERRENOS_Y_CONSTRUCCIONES  8038 non-null   float64\n",
      " 6   CXP                        7934 non-null   float64\n",
      " 7   CONTRIBUCIONES_X_PAGAR     8052 non-null   float64\n",
      " 8   ANTICIPOS_CTE              7976 non-null   float64\n",
      " 9   CAP_SOCIAL                 8036 non-null   float64\n",
      " 10  UTILIDADES_ACUMULADAS      7993 non-null   float64\n",
      " 11  UTILIDAD_O_PERDIDA         8031 non-null   float64\n",
      " 12  TOTAL_VENTAS               7941 non-null   float64\n",
      " 13  TOTAL_COMPRAS              7908 non-null   float64\n",
      " 14  UTILIDAD_BRUTA             7971 non-null   float64\n",
      " 15  TOTAL_GASTOS               7943 non-null   float64\n",
      " 16  OBJETIVO                   9400 non-null   object \n",
      "dtypes: float64(16), object(1)\n",
      "memory usage: 1.2+ MB\n"
     ]
    }
   ],
   "source": [
    "df.info()"
   ]
  },
  {
   "cell_type": "markdown",
   "metadata": {},
   "source": [
    "Las variables son todas numericas. Solo nuestra variable TARGET (Prestamo aprobado o posible incumplimiento financiero) es the tipo float.\n",
    "\n",
    "La función describe() de abajo muestra varias estadisticas del dataset."
   ]
  },
  {
   "cell_type": "code",
   "execution_count": 7,
   "metadata": {
    "scrolled": true
   },
   "outputs": [
    {
     "data": {
      "text/html": [
       "<div>\n",
       "<style scoped>\n",
       "    .dataframe tbody tr th:only-of-type {\n",
       "        vertical-align: middle;\n",
       "    }\n",
       "\n",
       "    .dataframe tbody tr th {\n",
       "        vertical-align: top;\n",
       "    }\n",
       "\n",
       "    .dataframe thead th {\n",
       "        text-align: right;\n",
       "    }\n",
       "</style>\n",
       "<table border=\"1\" class=\"dataframe\">\n",
       "  <thead>\n",
       "    <tr style=\"text-align: right;\">\n",
       "      <th></th>\n",
       "      <th>EFECTIVO</th>\n",
       "      <th>CXC</th>\n",
       "      <th>INVENTARIO</th>\n",
       "      <th>EQ_OFICINA</th>\n",
       "      <th>EQ_TRANSPORTE</th>\n",
       "      <th>TERRENOS_Y_CONSTRUCCIONES</th>\n",
       "      <th>CXP</th>\n",
       "      <th>CONTRIBUCIONES_X_PAGAR</th>\n",
       "      <th>ANTICIPOS_CTE</th>\n",
       "      <th>CAP_SOCIAL</th>\n",
       "      <th>UTILIDADES_ACUMULADAS</th>\n",
       "      <th>UTILIDAD_O_PERDIDA</th>\n",
       "      <th>TOTAL_VENTAS</th>\n",
       "      <th>TOTAL_COMPRAS</th>\n",
       "      <th>UTILIDAD_BRUTA</th>\n",
       "      <th>TOTAL_GASTOS</th>\n",
       "    </tr>\n",
       "  </thead>\n",
       "  <tbody>\n",
       "    <tr>\n",
       "      <th>count</th>\n",
       "      <td>7.986000e+03</td>\n",
       "      <td>7.968000e+03</td>\n",
       "      <td>8.000000e+03</td>\n",
       "      <td>7.945000e+03</td>\n",
       "      <td>7.988000e+03</td>\n",
       "      <td>8.038000e+03</td>\n",
       "      <td>7.934000e+03</td>\n",
       "      <td>8.052000e+03</td>\n",
       "      <td>7.976000e+03</td>\n",
       "      <td>8.036000e+03</td>\n",
       "      <td>7.993000e+03</td>\n",
       "      <td>8.031000e+03</td>\n",
       "      <td>7.941000e+03</td>\n",
       "      <td>7.908000e+03</td>\n",
       "      <td>7.971000e+03</td>\n",
       "      <td>7.943000e+03</td>\n",
       "    </tr>\n",
       "    <tr>\n",
       "      <th>mean</th>\n",
       "      <td>1.720915e+06</td>\n",
       "      <td>1.561073e+07</td>\n",
       "      <td>1.098941e+07</td>\n",
       "      <td>4.341284e+06</td>\n",
       "      <td>1.321588e+06</td>\n",
       "      <td>6.198420e+05</td>\n",
       "      <td>2.275234e+07</td>\n",
       "      <td>4.109997e+05</td>\n",
       "      <td>2.635145e+06</td>\n",
       "      <td>3.325138e+06</td>\n",
       "      <td>4.240122e+06</td>\n",
       "      <td>-2.090086e+06</td>\n",
       "      <td>1.017051e+08</td>\n",
       "      <td>1.211510e+08</td>\n",
       "      <td>1.702067e+07</td>\n",
       "      <td>1.620236e+07</td>\n",
       "    </tr>\n",
       "    <tr>\n",
       "      <th>std</th>\n",
       "      <td>5.958844e+06</td>\n",
       "      <td>1.980334e+07</td>\n",
       "      <td>1.541956e+07</td>\n",
       "      <td>1.885512e+07</td>\n",
       "      <td>1.398674e+06</td>\n",
       "      <td>6.202347e+06</td>\n",
       "      <td>2.810091e+07</td>\n",
       "      <td>6.311683e+05</td>\n",
       "      <td>3.828127e+06</td>\n",
       "      <td>4.122756e+06</td>\n",
       "      <td>1.066916e+07</td>\n",
       "      <td>2.439421e+06</td>\n",
       "      <td>1.148423e+08</td>\n",
       "      <td>3.320798e+08</td>\n",
       "      <td>1.710116e+07</td>\n",
       "      <td>1.341951e+07</td>\n",
       "    </tr>\n",
       "    <tr>\n",
       "      <th>min</th>\n",
       "      <td>2.591455e+03</td>\n",
       "      <td>3.282261e+01</td>\n",
       "      <td>5.019700e-02</td>\n",
       "      <td>2.974216e+02</td>\n",
       "      <td>1.698222e+02</td>\n",
       "      <td>-1.577708e+07</td>\n",
       "      <td>1.276200e+01</td>\n",
       "      <td>5.638191e+03</td>\n",
       "      <td>4.495763e+00</td>\n",
       "      <td>2.334091e+00</td>\n",
       "      <td>-4.029189e+07</td>\n",
       "      <td>-8.716171e+06</td>\n",
       "      <td>7.154203e+03</td>\n",
       "      <td>1.458903e+05</td>\n",
       "      <td>2.408107e+03</td>\n",
       "      <td>3.979024e+03</td>\n",
       "    </tr>\n",
       "    <tr>\n",
       "      <th>25%</th>\n",
       "      <td>1.874601e+05</td>\n",
       "      <td>2.362067e+06</td>\n",
       "      <td>9.281351e+05</td>\n",
       "      <td>1.769855e+05</td>\n",
       "      <td>3.433503e+05</td>\n",
       "      <td>-3.874056e+06</td>\n",
       "      <td>3.711720e+06</td>\n",
       "      <td>1.113298e+05</td>\n",
       "      <td>3.813363e+05</td>\n",
       "      <td>5.629920e+05</td>\n",
       "      <td>-3.025772e+06</td>\n",
       "      <td>-3.824858e+06</td>\n",
       "      <td>2.303181e+07</td>\n",
       "      <td>1.214764e+07</td>\n",
       "      <td>4.836037e+06</td>\n",
       "      <td>6.104123e+06</td>\n",
       "    </tr>\n",
       "    <tr>\n",
       "      <th>50%</th>\n",
       "      <td>5.112329e+05</td>\n",
       "      <td>8.255125e+06</td>\n",
       "      <td>4.810330e+06</td>\n",
       "      <td>6.529255e+05</td>\n",
       "      <td>8.630635e+05</td>\n",
       "      <td>1.828932e+06</td>\n",
       "      <td>1.286143e+07</td>\n",
       "      <td>2.288855e+05</td>\n",
       "      <td>1.235872e+06</td>\n",
       "      <td>1.870131e+06</td>\n",
       "      <td>4.119952e+06</td>\n",
       "      <td>-1.629044e+06</td>\n",
       "      <td>6.309045e+07</td>\n",
       "      <td>3.473485e+07</td>\n",
       "      <td>1.181114e+07</td>\n",
       "      <td>1.272461e+07</td>\n",
       "    </tr>\n",
       "    <tr>\n",
       "      <th>75%</th>\n",
       "      <td>1.432613e+06</td>\n",
       "      <td>2.160462e+07</td>\n",
       "      <td>1.474278e+07</td>\n",
       "      <td>2.430901e+06</td>\n",
       "      <td>1.827559e+06</td>\n",
       "      <td>5.955197e+06</td>\n",
       "      <td>3.097250e+07</td>\n",
       "      <td>4.690705e+05</td>\n",
       "      <td>3.273238e+06</td>\n",
       "      <td>4.536913e+06</td>\n",
       "      <td>1.140550e+07</td>\n",
       "      <td>-7.368186e+03</td>\n",
       "      <td>1.378293e+08</td>\n",
       "      <td>1.007433e+08</td>\n",
       "      <td>2.352766e+07</td>\n",
       "      <td>2.260017e+07</td>\n",
       "    </tr>\n",
       "    <tr>\n",
       "      <th>max</th>\n",
       "      <td>3.343603e+08</td>\n",
       "      <td>2.135761e+08</td>\n",
       "      <td>1.664338e+08</td>\n",
       "      <td>5.913821e+08</td>\n",
       "      <td>1.290365e+07</td>\n",
       "      <td>9.031323e+06</td>\n",
       "      <td>2.644946e+08</td>\n",
       "      <td>1.618323e+07</td>\n",
       "      <td>4.291686e+07</td>\n",
       "      <td>4.116688e+07</td>\n",
       "      <td>4.056842e+07</td>\n",
       "      <td>1.214191e+06</td>\n",
       "      <td>1.151511e+09</td>\n",
       "      <td>1.000136e+10</td>\n",
       "      <td>1.438985e+08</td>\n",
       "      <td>9.763166e+07</td>\n",
       "    </tr>\n",
       "  </tbody>\n",
       "</table>\n",
       "</div>"
      ],
      "text/plain": [
       "           EFECTIVO           CXC    INVENTARIO    EQ_OFICINA  EQ_TRANSPORTE  \\\n",
       "count  7.986000e+03  7.968000e+03  8.000000e+03  7.945000e+03   7.988000e+03   \n",
       "mean   1.720915e+06  1.561073e+07  1.098941e+07  4.341284e+06   1.321588e+06   \n",
       "std    5.958844e+06  1.980334e+07  1.541956e+07  1.885512e+07   1.398674e+06   \n",
       "min    2.591455e+03  3.282261e+01  5.019700e-02  2.974216e+02   1.698222e+02   \n",
       "25%    1.874601e+05  2.362067e+06  9.281351e+05  1.769855e+05   3.433503e+05   \n",
       "50%    5.112329e+05  8.255125e+06  4.810330e+06  6.529255e+05   8.630635e+05   \n",
       "75%    1.432613e+06  2.160462e+07  1.474278e+07  2.430901e+06   1.827559e+06   \n",
       "max    3.343603e+08  2.135761e+08  1.664338e+08  5.913821e+08   1.290365e+07   \n",
       "\n",
       "       TERRENOS_Y_CONSTRUCCIONES           CXP  CONTRIBUCIONES_X_PAGAR  \\\n",
       "count               8.038000e+03  7.934000e+03            8.052000e+03   \n",
       "mean                6.198420e+05  2.275234e+07            4.109997e+05   \n",
       "std                 6.202347e+06  2.810091e+07            6.311683e+05   \n",
       "min                -1.577708e+07  1.276200e+01            5.638191e+03   \n",
       "25%                -3.874056e+06  3.711720e+06            1.113298e+05   \n",
       "50%                 1.828932e+06  1.286143e+07            2.288855e+05   \n",
       "75%                 5.955197e+06  3.097250e+07            4.690705e+05   \n",
       "max                 9.031323e+06  2.644946e+08            1.618323e+07   \n",
       "\n",
       "       ANTICIPOS_CTE    CAP_SOCIAL  UTILIDADES_ACUMULADAS  UTILIDAD_O_PERDIDA  \\\n",
       "count   7.976000e+03  8.036000e+03           7.993000e+03        8.031000e+03   \n",
       "mean    2.635145e+06  3.325138e+06           4.240122e+06       -2.090086e+06   \n",
       "std     3.828127e+06  4.122756e+06           1.066916e+07        2.439421e+06   \n",
       "min     4.495763e+00  2.334091e+00          -4.029189e+07       -8.716171e+06   \n",
       "25%     3.813363e+05  5.629920e+05          -3.025772e+06       -3.824858e+06   \n",
       "50%     1.235872e+06  1.870131e+06           4.119952e+06       -1.629044e+06   \n",
       "75%     3.273238e+06  4.536913e+06           1.140550e+07       -7.368186e+03   \n",
       "max     4.291686e+07  4.116688e+07           4.056842e+07        1.214191e+06   \n",
       "\n",
       "       TOTAL_VENTAS  TOTAL_COMPRAS  UTILIDAD_BRUTA  TOTAL_GASTOS  \n",
       "count  7.941000e+03   7.908000e+03    7.971000e+03  7.943000e+03  \n",
       "mean   1.017051e+08   1.211510e+08    1.702067e+07  1.620236e+07  \n",
       "std    1.148423e+08   3.320798e+08    1.710116e+07  1.341951e+07  \n",
       "min    7.154203e+03   1.458903e+05    2.408107e+03  3.979024e+03  \n",
       "25%    2.303181e+07   1.214764e+07    4.836037e+06  6.104123e+06  \n",
       "50%    6.309045e+07   3.473485e+07    1.181114e+07  1.272461e+07  \n",
       "75%    1.378293e+08   1.007433e+08    2.352766e+07  2.260017e+07  \n",
       "max    1.151511e+09   1.000136e+10    1.438985e+08  9.763166e+07  "
      ]
     },
     "execution_count": 7,
     "metadata": {},
     "output_type": "execute_result"
    }
   ],
   "source": [
    "df.describe()"
   ]
  },
  {
   "cell_type": "markdown",
   "metadata": {},
   "source": [
    "<hr>"
   ]
  },
  {
   "cell_type": "markdown",
   "metadata": {},
   "source": [
    "### Constantes del entorno\n",
    "Se crea una semilla aleatoria para los modelos"
   ]
  },
  {
   "cell_type": "code",
   "execution_count": 8,
   "metadata": {},
   "outputs": [],
   "source": [
    "semilla_aleatoria = 1234"
   ]
  },
  {
   "cell_type": "markdown",
   "metadata": {},
   "source": [
    "## Extraccion de mejores caracterisitcas con Random Forest"
   ]
  },
  {
   "cell_type": "markdown",
   "metadata": {},
   "source": [
    "### Entrenamiento y evaluación de un modelo de clasificación binaria"
   ]
  },
  {
   "cell_type": "markdown",
   "metadata": {},
   "source": [
    "\n",
    "#### Transformación 1: excluir columnas del conjunto de datos\n",
    "\n",
    "Para la creación de una transformación de datos personalizada en scikit-learn, es necesario crear una clase con los métodos transform y fit. En el método de 'transform', se ejecutará la lógica de nuestra transformación.\n",
    "\n",
    "La siguiente celda muestra el código completo de una transformación DropColumns para eliminar columnas de un pandas DataFrame.\n"
   ]
  },
  {
   "cell_type": "code",
   "execution_count": 9,
   "metadata": {},
   "outputs": [],
   "source": [
    "from sklearn.base import BaseEstimator, TransformerMixin\n",
    "\n",
    "\n",
    "# All sklearn Transforms must have the `transform` and `fit` methods\n",
    "class DropColumns(BaseEstimator, TransformerMixin):\n",
    "    def __init__(self, columns):\n",
    "        self.columns = columns\n",
    "\n",
    "    def fit(self, X, y=None):\n",
    "        return self\n",
    "    \n",
    "    def transform(self, X):\n",
    "        # Primero copiamos el dataframe de datos de entrada 'X'\n",
    "        data = X.copy()\n",
    "        # Devolvemos un nuevo dataframe de datos sin las columnas no deseadas\n",
    "        return data.drop(labels=self.columns, axis='columns')"
   ]
  },
  {
   "cell_type": "code",
   "execution_count": 10,
   "metadata": {},
   "outputs": [
    {
     "name": "stdout",
     "output_type": "stream",
     "text": [
      "\n",
      "\n",
      "Columnas del conjunto de datos después de la transformación ``DropColumns``: \n",
      "\n",
      "Index(['EFECTIVO', 'CXC', 'INVENTARIO', 'EQ_OFICINA', 'EQ_TRANSPORTE',\n",
      "       'TERRENOS_Y_CONSTRUCCIONES', 'CXP', 'CONTRIBUCIONES_X_PAGAR',\n",
      "       'ANTICIPOS_CTE', 'CAP_SOCIAL', 'UTILIDADES_ACUMULADAS',\n",
      "       'UTILIDAD_O_PERDIDA', 'TOTAL_VENTAS', 'TOTAL_COMPRAS', 'UTILIDAD_BRUTA',\n",
      "       'TOTAL_GASTOS', 'OBJETIVO'],\n",
      "      dtype='object')\n"
     ]
    }
   ],
   "source": [
    "\n",
    "# Reconstruyendo un DataFrame de Pandas con el resultado de la transformación\n",
    "df2 =  DropColumns(columns=[]).fit_transform(X=df)\n",
    "\n",
    "# Ver las columnas del conjunto de datos transformado\n",
    "print(\"\\n\\nColumnas del conjunto de datos después de la transformación ``DropColumns``: \\n\")\n",
    "print(df2.columns)"
   ]
  },
  {
   "cell_type": "markdown",
   "metadata": {},
   "source": [
    "#### Transformación 3: tratamiento de datos faltantes\n",
    "\n",
    "Para manejar los datos que faltan en nuestro conjunto de datos, ahora usaremos una transformación lista para usar de la biblioteca scikit-learn, llamada SimpleImputer.\n",
    "\n",
    "Esta transformación permite varias estrategias para el tratamiento de datos faltantes. La documentación oficial se puede encontrar en: https://scikit-learn.org/stable/modules/generated/sklearn.impute.SimpleImputer.html\n",
    "\n",
    "En este ejemplo, simplemente haremos cero todos los valores faltante usted puede escoger otra estrategia ;)."
   ]
  },
  {
   "cell_type": "code",
   "execution_count": 11,
   "metadata": {},
   "outputs": [],
   "source": [
    "class DataFrameImputer(TransformerMixin):\n",
    "\n",
    "    def __init__(self):\n",
    "        \"\"\"Impute missing values.\n",
    "\n",
    "        Columns of dtype object are imputed with the most frequent value \n",
    "        in column.\n",
    "\n",
    "        Columns of other types are imputed with mean of column.\n",
    "\n",
    "        \"\"\"\n",
    "    def fit(self, X, y=None):\n",
    "\n",
    "        self.fill = pd.Series([X[c].value_counts().index[0]\n",
    "            if X[c].dtype == np.dtype('O') else X[c].mean() for c in X],\n",
    "            index=X.columns)\n",
    "\n",
    "        return self\n",
    "\n",
    "    def transform(self, X, y=None):\n",
    "        return X.fillna(self.fill)"
   ]
  },
  {
   "cell_type": "code",
   "execution_count": 12,
   "metadata": {},
   "outputs": [
    {
     "name": "stdout",
     "output_type": "stream",
     "text": [
      "Valores nulos antes de la transformación SimpleImputer: \n",
      "\n",
      "EFECTIVO                     1414\n",
      "CXC                          1432\n",
      "INVENTARIO                   1400\n",
      "EQ_OFICINA                   1455\n",
      "EQ_TRANSPORTE                1412\n",
      "TERRENOS_Y_CONSTRUCCIONES    1362\n",
      "CXP                          1466\n",
      "CONTRIBUCIONES_X_PAGAR       1348\n",
      "ANTICIPOS_CTE                1424\n",
      "CAP_SOCIAL                   1364\n",
      "UTILIDADES_ACUMULADAS        1407\n",
      "UTILIDAD_O_PERDIDA           1369\n",
      "TOTAL_VENTAS                 1459\n",
      "TOTAL_COMPRAS                1492\n",
      "UTILIDAD_BRUTA               1429\n",
      "TOTAL_GASTOS                 1457\n",
      "OBJETIVO                        0\n",
      "dtype: int64\n",
      "\n",
      "\n",
      "\n",
      "Valores nulos en el conjunto de datos después de la transformación SimpleImputer: \n",
      "\n",
      "EFECTIVO                     0\n",
      "CXC                          0\n",
      "INVENTARIO                   0\n",
      "EQ_OFICINA                   0\n",
      "EQ_TRANSPORTE                0\n",
      "TERRENOS_Y_CONSTRUCCIONES    0\n",
      "CXP                          0\n",
      "CONTRIBUCIONES_X_PAGAR       0\n",
      "ANTICIPOS_CTE                0\n",
      "CAP_SOCIAL                   0\n",
      "UTILIDADES_ACUMULADAS        0\n",
      "UTILIDAD_O_PERDIDA           0\n",
      "TOTAL_VENTAS                 0\n",
      "TOTAL_COMPRAS                0\n",
      "UTILIDAD_BRUTA               0\n",
      "TOTAL_GASTOS                 0\n",
      "OBJETIVO                     0\n",
      "dtype: int64\n",
      "\n"
     ]
    }
   ],
   "source": [
    "# Ver los datos faltantes del conjunto de datos antes de la primera transformación (df_data_2)\n",
    "print(\"Valores nulos antes de la transformación SimpleImputer: \\n\\n{}\\n\".format(df2.isnull().sum(axis = 0)))\n",
    "df3 = DataFrameImputer().fit_transform(df2)\n",
    "# Ver los datos faltantes del conjunto de datos después de la segunda transformación (SimpleImputer) (df_data_3)\n",
    "print(\"\\n\\nValores nulos en el conjunto de datos después de la transformación SimpleImputer: \\n\\n{}\\n\".format(df3.isnull().sum(axis = 0)))"
   ]
  },
  {
   "cell_type": "code",
   "execution_count": 13,
   "metadata": {},
   "outputs": [],
   "source": [
    "class DataScaleImputer(TransformerMixin):\n",
    "\n",
    "    def __init__(self, columns):\n",
    "        self.columns = columns\n",
    "\n",
    "    def fit(self, X, y=None):\n",
    "        return self\n",
    "    \n",
    "    def transform(self, X):\n",
    "        # Primero copiamos el dataframe de datos de entrada 'X'\n",
    "        data = X.copy()\n",
    "        num_features = data.columns.drop(self.columns)\n",
    "        transformer = ColumnTransformer(transformers=[('scaler', StandardScaler(),num_features)])\n",
    "        X_transform = transformer.fit_transform(data)\n",
    "        X_imputed_df = pd.DataFrame(data = X_transform, columns = num_features.values)\n",
    "        X_imputed_df[self.columns] = data[self.columns]\n",
    "        return X_imputed_df"
   ]
  },
  {
   "cell_type": "code",
   "execution_count": 14,
   "metadata": {},
   "outputs": [],
   "source": [
    "df4 = DataScaleImputer(columns=['OBJETIVO']).fit_transform(df3)"
   ]
  },
  {
   "cell_type": "markdown",
   "metadata": {},
   "source": [
    "#### Definición de features (Variables Independientes)\n",
    "\n",
    "En este * ejemplo * usaremos todas las columnas. (Usted debe decidir cuales variables utilizar)"
   ]
  },
  {
   "cell_type": "code",
   "execution_count": 15,
   "metadata": {},
   "outputs": [],
   "source": [
    "features = df4[\n",
    "    [\n",
    "       'EFECTIVO',\n",
    "        'CXC',\n",
    "        'INVENTARIO',\n",
    "        'EQ_OFICINA',\n",
    "        'EQ_TRANSPORTE',\n",
    "        'TERRENOS_Y_CONSTRUCCIONES',\n",
    "        'CXP',\n",
    "        'CONTRIBUCIONES_X_PAGAR',\n",
    "        'ANTICIPOS_CTE',\n",
    "        'CAP_SOCIAL',\n",
    "        'UTILIDADES_ACUMULADAS',\n",
    "        'UTILIDAD_O_PERDIDA',\n",
    "        'TOTAL_VENTAS',\n",
    "        'TOTAL_COMPRAS',\n",
    "        'UTILIDAD_BRUTA',\n",
    "        'TOTAL_GASTOS',\n",
    "    ]\n",
    "]\n",
    "target = df4[\"OBJETIVO\"]  ## No cambie la variable target!"
   ]
  },
  {
   "cell_type": "markdown",
   "metadata": {},
   "source": [
    "### Balanceo de Datos"
   ]
  },
  {
   "cell_type": "code",
   "execution_count": 16,
   "metadata": {},
   "outputs": [],
   "source": [
    "def plot_2d_space(X, y, label='Classes'):   \n",
    "    colors = ['#1F77B4', '#FF7F0E']\n",
    "    markers = ['o', 's']\n",
    "    for l, c, m in zip(np.unique(y), colors, markers):\n",
    "        plt.scatter(\n",
    "            X[y==l, 0],\n",
    "            X[y==l, 1],\n",
    "            c=c, label=l, marker=m\n",
    "        )\n",
    "    plt.title(label)\n",
    "    plt.legend(loc='upper right')\n",
    "    plt.show()"
   ]
  },
  {
   "cell_type": "code",
   "execution_count": 17,
   "metadata": {},
   "outputs": [
    {
     "data": {
      "image/png": "[encoded data removed]",
      "text/plain": [
       "<Figure size 432x288 with 1 Axes>"
      ]
     },
     "metadata": {
      "needs_background": "light"
     },
     "output_type": "display_data"
    }
   ],
   "source": [
    "from sklearn.decomposition import PCA\n",
    "\n",
    "pca = PCA(n_components=2)\n",
    "X_pca = pca.fit_transform(features)\n",
    "\n",
    "plot_2d_space(X_pca, target, 'Imbalanced dataset (2 PCA components)')"
   ]
  },
  {
   "cell_type": "code",
   "execution_count": 18,
   "metadata": {},
   "outputs": [
    {
     "data": {
      "image/png": "[encoded data removed]",
      "text/plain": [
       "<Figure size 432x288 with 1 Axes>"
      ]
     },
     "metadata": {
      "needs_background": "light"
     },
     "output_type": "display_data"
    }
   ],
   "source": [
    "rus = RandomUnderSampler(sampling_strategy='auto')\n",
    "X_rus, y_rus = rus.fit_sample(features, target)\n",
    "plot_2d_space(X_rus.values, y_rus, 'Random under-sampling')"
   ]
  },
  {
   "cell_type": "markdown",
   "metadata": {},
   "source": [
    "#### División en 80% entrenamiento y 20% pruebas"
   ]
  },
  {
   "cell_type": "code",
   "execution_count": 19,
   "metadata": {},
   "outputs": [],
   "source": [
    "X_train, X_test, y_train, y_test = train_test_split(X_rus, y_rus, test_size=0.2, random_state=None)"
   ]
  },
  {
   "cell_type": "markdown",
   "metadata": {},
   "source": [
    "#### Entrenando un modelo para extraer mejores caracteristicas"
   ]
  },
  {
   "cell_type": "code",
   "execution_count": 20,
   "metadata": {},
   "outputs": [
    {
     "data": {
      "text/plain": [
       "RandomForestClassifier(class_weight='balanced', random_state=1234)"
      ]
     },
     "execution_count": 20,
     "metadata": {},
     "output_type": "execute_result"
    }
   ],
   "source": [
    "clf_rfo = RandomForestClassifier(random_state=semilla_aleatoria,class_weight=\"balanced\")\n",
    "clf_rfo.fit(X_train, y_train)"
   ]
  },
  {
   "cell_type": "markdown",
   "metadata": {},
   "source": [
    "#### Haciendo una predicción con el set de prueba"
   ]
  },
  {
   "cell_type": "code",
   "execution_count": 21,
   "metadata": {
    "scrolled": true
   },
   "outputs": [
    {
     "name": "stdout",
     "output_type": "stream",
     "text": [
      "['Aceptado' 'Aceptado' 'Sospechoso' 'Sospechoso' 'Sospechoso' 'Aceptado'\n",
      " 'Sospechoso' 'Aceptado' 'Aceptado' 'Aceptado' 'Aceptado' 'Sospechoso'\n",
      " 'Aceptado' 'Aceptado' 'Sospechoso' 'Sospechoso' 'Aceptado' 'Aceptado'\n",
      " 'Sospechoso' 'Aceptado' 'Sospechoso' 'Aceptado' 'Aceptado' 'Aceptado'\n",
      " 'Sospechoso' 'Sospechoso' 'Sospechoso' 'Sospechoso' 'Aceptado'\n",
      " 'Sospechoso' 'Sospechoso' 'Aceptado' 'Sospechoso' 'Aceptado' 'Aceptado'\n",
      " 'Sospechoso' 'Aceptado' 'Aceptado' 'Sospechoso' 'Aceptado' 'Sospechoso'\n",
      " 'Sospechoso' 'Aceptado' 'Aceptado' 'Sospechoso' 'Sospechoso' 'Sospechoso'\n",
      " 'Sospechoso' 'Sospechoso' 'Sospechoso' 'Sospechoso' 'Sospechoso'\n",
      " 'Aceptado' 'Sospechoso' 'Sospechoso' 'Sospechoso' 'Aceptado' 'Aceptado'\n",
      " 'Aceptado' 'Aceptado' 'Sospechoso' 'Sospechoso' 'Sospechoso' 'Aceptado'\n",
      " 'Sospechoso' 'Aceptado' 'Sospechoso' 'Sospechoso' 'Aceptado' 'Sospechoso'\n",
      " 'Sospechoso' 'Aceptado' 'Sospechoso' 'Aceptado' 'Sospechoso' 'Aceptado'\n",
      " 'Sospechoso' 'Sospechoso' 'Aceptado' 'Aceptado' 'Aceptado' 'Sospechoso'\n",
      " 'Aceptado' 'Sospechoso' 'Aceptado' 'Aceptado' 'Sospechoso' 'Aceptado'\n",
      " 'Sospechoso' 'Aceptado' 'Sospechoso' 'Sospechoso' 'Aceptado' 'Sospechoso'\n",
      " 'Aceptado' 'Aceptado' 'Aceptado' 'Sospechoso' 'Sospechoso' 'Sospechoso'\n",
      " 'Sospechoso' 'Sospechoso' 'Aceptado' 'Sospechoso' 'Aceptado' 'Aceptado'\n",
      " 'Aceptado' 'Sospechoso' 'Aceptado' 'Sospechoso' 'Sospechoso' 'Sospechoso'\n",
      " 'Sospechoso' 'Aceptado' 'Aceptado' 'Aceptado' 'Aceptado' 'Sospechoso'\n",
      " 'Aceptado' 'Aceptado' 'Sospechoso' 'Aceptado' 'Aceptado' 'Aceptado'\n",
      " 'Sospechoso' 'Sospechoso' 'Aceptado' 'Aceptado' 'Sospechoso' 'Sospechoso'\n",
      " 'Sospechoso' 'Aceptado' 'Sospechoso' 'Aceptado' 'Aceptado' 'Sospechoso'\n",
      " 'Aceptado' 'Aceptado' 'Sospechoso' 'Sospechoso' 'Aceptado' 'Aceptado'\n",
      " 'Sospechoso' 'Sospechoso' 'Aceptado' 'Sospechoso' 'Aceptado' 'Aceptado'\n",
      " 'Aceptado' 'Aceptado' 'Sospechoso' 'Sospechoso' 'Sospechoso' 'Sospechoso'\n",
      " 'Aceptado' 'Aceptado' 'Aceptado' 'Aceptado' 'Sospechoso' 'Aceptado'\n",
      " 'Sospechoso' 'Sospechoso' 'Sospechoso' 'Aceptado' 'Aceptado' 'Sospechoso'\n",
      " 'Aceptado' 'Sospechoso' 'Sospechoso' 'Aceptado' 'Aceptado' 'Sospechoso'\n",
      " 'Sospechoso' 'Sospechoso' 'Aceptado' 'Sospechoso' 'Sospechoso' 'Aceptado'\n",
      " 'Sospechoso' 'Aceptado' 'Sospechoso' 'Sospechoso' 'Sospechoso'\n",
      " 'Sospechoso' 'Sospechoso' 'Aceptado' 'Aceptado' 'Sospechoso' 'Aceptado'\n",
      " 'Sospechoso' 'Sospechoso' 'Aceptado' 'Sospechoso' 'Sospechoso' 'Aceptado'\n",
      " 'Aceptado' 'Sospechoso' 'Sospechoso' 'Sospechoso' 'Aceptado' 'Aceptado'\n",
      " 'Aceptado' 'Sospechoso' 'Sospechoso' 'Sospechoso' 'Aceptado' 'Aceptado'\n",
      " 'Aceptado' 'Sospechoso' 'Sospechoso' 'Aceptado']\n"
     ]
    }
   ],
   "source": [
    "y_pred = clf_rfo.predict(X_test)\n",
    "print(y_pred)"
   ]
  },
  {
   "cell_type": "markdown",
   "metadata": {},
   "source": [
    "### Evaluación del modelo creado"
   ]
  },
  {
   "cell_type": "code",
   "execution_count": 22,
   "metadata": {},
   "outputs": [
    {
     "name": "stdout",
     "output_type": "stream",
     "text": [
      "model score: 0.924\n",
      "Exactitud: 92.0%\n"
     ]
    }
   ],
   "source": [
    "from sklearn.metrics import accuracy_score\n",
    "\n",
    "# Precisión lograda por el árbol de decisiones\n",
    "print(\"model score: %.3f\" % clf_rfo.score(X_test, y_test))\n",
    "print(\"Exactitud: {}%\".format(100*round(accuracy_score(y_test, y_pred), 2)))"
   ]
  },
  {
   "cell_type": "markdown",
   "metadata": {},
   "source": [
    "#### Analizar la calidad del modelo a través de la matriz de confusión"
   ]
  },
  {
   "cell_type": "markdown",
   "metadata": {},
   "source": [
    "### Extracción de caracteristicas relevantes"
   ]
  },
  {
   "cell_type": "markdown",
   "metadata": {},
   "source": [
    "Columnas del Modelo ['UTILIDAD_O_PERDIDA' 'TERRENOS_Y_CONSTRUCCIONES' 'UTILIDADES_ACUMULADAS'\n",
    " 'INVENTARIO' 'TOTAL_VENTAS' 'UTILIDAD_BRUTA' 'ANTICIPOS_CTE' 'CXC' 'CXP'\n",
    " 'EFECTIVO']\n",
    "Columnas No Relevantes(excluir del modelo) ['CAP_SOCIAL' 'CONTRIBUCIONES_X_PAGAR' 'EQ_OFICINA' 'EQ_TRANSPORTE'\n",
    " 'TOTAL_COMPRAS' 'TOTAL_GASTOS']"
   ]
  },
  {
   "cell_type": "code",
   "execution_count": 23,
   "metadata": {},
   "outputs": [
    {
     "name": "stdout",
     "output_type": "stream",
     "text": [
      "Columnas del Modelo ['UTILIDAD_O_PERDIDA' 'TERRENOS_Y_CONSTRUCCIONES' 'UTILIDADES_ACUMULADAS'\n",
      " 'ANTICIPOS_CTE' 'INVENTARIO' 'UTILIDAD_BRUTA' 'CXC' 'TOTAL_GASTOS' 'CXP'\n",
      " 'TOTAL_VENTAS' 'EFECTIVO' 'TOTAL_COMPRAS']\n",
      "Columnas No Relevantes(excluir del modelo) ['CAP_SOCIAL' 'CONTRIBUCIONES_X_PAGAR' 'EQ_OFICINA' 'EQ_TRANSPORTE']\n"
     ]
    }
   ],
   "source": [
    "feature_importances = {name: score for name, score in zip(list(df), clf_rfo.feature_importances_)}\n",
    "feature_importances_sorted = pd.Series(feature_importances).sort_values(ascending=False)\n",
    "# Reducimos el conjunto de datos a las 10 características más importantes\n",
    "X_reduced = features[list(feature_importances_sorted.head(12).index)].copy()\n",
    "columnas_modelo = X_reduced.columns.values\n",
    "columnas_eliminar=df.columns.difference(np.append(np.array(X_reduced.columns),'OBJETIVO')).values\n",
    "print(\"Columnas del Modelo\",columnas_modelo)\n",
    "print(\"Columnas No Relevantes(excluir del modelo)\",columnas_eliminar)"
   ]
  },
  {
   "cell_type": "code",
   "execution_count": 24,
   "metadata": {},
   "outputs": [
    {
     "data": {
      "image/png": "[encoded data removed]",
      "text/plain": [
       "<Figure size 864x432 with 1 Axes>"
      ]
     },
     "metadata": {
      "needs_background": "light"
     },
     "output_type": "display_data"
    }
   ],
   "source": [
    "# Representación gráfica de dos características\n",
    "plt.figure(figsize=(12, 6))\n",
    "plt.scatter(df[\"ANTICIPOS_CTE\"][df['OBJETIVO'] == 'Aceptado'], df[\"TOTAL_VENTAS\"][df['OBJETIVO'] == 'Aceptado'], c=\"g\", marker=\".\")\n",
    "plt.scatter(df[\"ANTICIPOS_CTE\"][df['OBJETIVO'] == 'Sospechoso'], df[\"TOTAL_VENTAS\"][df['OBJETIVO'] == 'Sospechoso'], c=\"r\", marker=\".\")\n",
    "plt.xlabel(\"Transacciones Legitimas\", fontsize=14)\n",
    "plt.ylabel(\"Transacciones Fraudulentas\", fontsize=14)\n",
    "plt.show()"
   ]
  },
  {
   "cell_type": "markdown",
   "metadata": {},
   "source": [
    "## Generacion de modelos con las mejores caractersiticas"
   ]
  },
  {
   "cell_type": "markdown",
   "metadata": {},
   "source": [
    "#### Transformación 1: excluir columnas no relevantes del conjunto de datos"
   ]
  },
  {
   "cell_type": "code",
   "execution_count": 25,
   "metadata": {},
   "outputs": [],
   "source": [
    "df5 = DropColumns(columns=columnas_eliminar).fit_transform(X=df)"
   ]
  },
  {
   "cell_type": "markdown",
   "metadata": {},
   "source": [
    "#### Transformación 2: tratamiento de datos faltantes"
   ]
  },
  {
   "cell_type": "code",
   "execution_count": 26,
   "metadata": {},
   "outputs": [],
   "source": [
    "df6 = DataFrameImputer().fit_transform(df5)"
   ]
  },
  {
   "cell_type": "markdown",
   "metadata": {},
   "source": [
    "#### Transformación 3: Escalamiento de los datos"
   ]
  },
  {
   "cell_type": "code",
   "execution_count": 27,
   "metadata": {},
   "outputs": [],
   "source": [
    "df7 = DataScaleImputer(columns=['OBJETIVO']).fit_transform(df6)"
   ]
  },
  {
   "cell_type": "code",
   "execution_count": 28,
   "metadata": {},
   "outputs": [
    {
     "name": "stdout",
     "output_type": "stream",
     "text": [
      "<class 'pandas.core.frame.DataFrame'>\n",
      "RangeIndex: 9400 entries, 0 to 9399\n",
      "Data columns (total 13 columns):\n",
      " #   Column                     Non-Null Count  Dtype  \n",
      "---  ------                     --------------  -----  \n",
      " 0   EFECTIVO                   9400 non-null   float64\n",
      " 1   CXC                        9400 non-null   float64\n",
      " 2   INVENTARIO                 9400 non-null   float64\n",
      " 3   TERRENOS_Y_CONSTRUCCIONES  9400 non-null   float64\n",
      " 4   CXP                        9400 non-null   float64\n",
      " 5   ANTICIPOS_CTE              9400 non-null   float64\n",
      " 6   UTILIDADES_ACUMULADAS      9400 non-null   float64\n",
      " 7   UTILIDAD_O_PERDIDA         9400 non-null   float64\n",
      " 8   TOTAL_VENTAS               9400 non-null   float64\n",
      " 9   TOTAL_COMPRAS              9400 non-null   float64\n",
      " 10  UTILIDAD_BRUTA             9400 non-null   float64\n",
      " 11  TOTAL_GASTOS               9400 non-null   float64\n",
      " 12  OBJETIVO                   9400 non-null   object \n",
      "dtypes: float64(12), object(1)\n",
      "memory usage: 954.8+ KB\n"
     ]
    }
   ],
   "source": [
    "df7.info()"
   ]
  },
  {
   "cell_type": "markdown",
   "metadata": {},
   "source": [
    "#### Definición de features (Variables Independientes)\n",
    "\n",
    "En este * ejemplo * usaremos todas las columnas. (Usted debe decidir cuales variables utilizar)"
   ]
  },
  {
   "cell_type": "code",
   "execution_count": 29,
   "metadata": {},
   "outputs": [],
   "source": [
    "features = df7[columnas_modelo]\n",
    "target = df7[\"OBJETIVO\"] "
   ]
  },
  {
   "cell_type": "markdown",
   "metadata": {},
   "source": [
    "## Balanceo de datos"
   ]
  },
  {
   "cell_type": "code",
   "execution_count": 30,
   "metadata": {},
   "outputs": [
    {
     "data": {
      "image/png": "[encoded data removed]",
      "text/plain": [
       "<Figure size 432x288 with 1 Axes>"
      ]
     },
     "metadata": {
      "needs_background": "light"
     },
     "output_type": "display_data"
    }
   ],
   "source": [
    "from sklearn.decomposition import PCA\n",
    "\n",
    "pca = PCA(n_components=2)\n",
    "X_pca = pca.fit_transform(features)\n",
    "\n",
    "plot_2d_space(X_pca, target, 'Imbalanced dataset (2 PCA components)')"
   ]
  },
  {
   "cell_type": "code",
   "execution_count": 1,
   "metadata": {},
   "outputs": [
    {
     "ename": "NameError",
     "evalue": "name 'features' is not defined",
     "output_type": "error",
     "traceback": [
      "\u001b[0;31m---------------------------------------------------------------------------\u001b[0m",
      "\u001b[0;31mNameError\u001b[0m                                 Traceback (most recent call last)",
      "\u001b[0;32m<ipython-input-1-17e1ce07238b>\u001b[0m in \u001b[0;36m<module>\u001b[0;34m\u001b[0m\n\u001b[1;32m      5\u001b[0m \u001b[0munder\u001b[0m \u001b[0;34m=\u001b[0m \u001b[0mRandomUnderSampler\u001b[0m\u001b[0;34m(\u001b[0m\u001b[0msampling_strategy\u001b[0m\u001b[0;34m=\u001b[0m\u001b[0;36m0.2\u001b[0m\u001b[0;34m)\u001b[0m\u001b[0;34m\u001b[0m\u001b[0;34m\u001b[0m\u001b[0m\n\u001b[1;32m      6\u001b[0m \u001b[0;34m\u001b[0m\u001b[0m\n\u001b[0;32m----> 7\u001b[0;31m \u001b[0mX_rus\u001b[0m\u001b[0;34m,\u001b[0m \u001b[0my_rus\u001b[0m \u001b[0;34m=\u001b[0m \u001b[0munder\u001b[0m\u001b[0;34m.\u001b[0m\u001b[0mfit_sample\u001b[0m\u001b[0;34m(\u001b[0m\u001b[0mfeatures\u001b[0m\u001b[0;34m,\u001b[0m \u001b[0mtarget\u001b[0m\u001b[0;34m)\u001b[0m\u001b[0;34m\u001b[0m\u001b[0;34m\u001b[0m\u001b[0m\n\u001b[0m\u001b[1;32m      8\u001b[0m \u001b[0mplot_2d_space\u001b[0m\u001b[0;34m(\u001b[0m\u001b[0mX_rus\u001b[0m\u001b[0;34m.\u001b[0m\u001b[0mvalues\u001b[0m\u001b[0;34m,\u001b[0m \u001b[0my_rus\u001b[0m\u001b[0;34m,\u001b[0m \u001b[0;34m'Random under-sampling'\u001b[0m\u001b[0;34m)\u001b[0m\u001b[0;34m\u001b[0m\u001b[0;34m\u001b[0m\u001b[0m\n\u001b[1;32m      9\u001b[0m \u001b[0mdisplay\u001b[0m\u001b[0;34m(\u001b[0m\u001b[0mX_rus\u001b[0m\u001b[0;34m)\u001b[0m\u001b[0;34m\u001b[0m\u001b[0;34m\u001b[0m\u001b[0m\n",
      "\u001b[0;31mNameError\u001b[0m: name 'features' is not defined"
     ]
    }
   ],
   "source": [
    "from imblearn.under_sampling import RandomUnderSampler\n",
    "from imblearn.over_sampling import RandomOverSampler\n",
    "#rus = RandomUnderSampler(sampling_strategy='auto')\n",
    "#over = RandomOverSampler(sampling_strategy=0.1)\n",
    "under = RandomUnderSampler(sampling_strategy=0.2)\n",
    "\n",
    "X_rus, y_rus = under.fit_sample(features, target)\n",
    "plot_2d_space(X_rus.values, y_rus, 'Random under-sampling')\n",
    "display(X_rus)"
   ]
  },
  {
   "cell_type": "markdown",
   "metadata": {},
   "source": [
    "#### División en 80% entrenamiento y 20% pruebas"
   ]
  },
  {
   "cell_type": "code",
   "execution_count": 41,
   "metadata": {},
   "outputs": [],
   "source": [
    "X_train, X_test, y_train, y_test = train_test_split(X_rus, y_rus, test_size=0.2, random_state=None)"
   ]
  },
  {
   "cell_type": "markdown",
   "metadata": {},
   "source": [
    "#### Crea Modelo de Ensamble -  Entrenando varios modelos de clasificación previo tunnig ver sección final"
   ]
  },
  {
   "cell_type": "markdown",
   "metadata": {},
   "source": [
    " {'XGB__subsample': 1, 'XGB__objective': 'reg:linear', 'XGB__n_estimators': 100, 'XGB__min_child_weight': 7, 'XGB__max_depth': 5, 'XGB__learning_rate': 0.1, 'XGB__colsample_bytree': 0.7, 'RNN__solver': 'adam', 'RNN__max_iter': 1240, 'RNN__learning_rate': 'adaptive', 'RNN__hidden_layer_sizes': (100, 100, 8), 'RNN__alpha': 0.0001, 'RNN__activation': 'tanh', 'RFOR__n_estimators': 200, 'RFOR__min_samples_split': 2, 'RFOR__min_samples_leaf': 1, 'RFOR__max_features': 'sqrt', 'RFOR__max_depth': 10, 'RFOR__bootstrap': True, 'ABO__n_estimators': 1645, 'ABO__learning_rate': 0.01, 'ABO__algorithm': 'SAMME.R'}"
   ]
  },
  {
   "cell_type": "code",
   "execution_count": 42,
   "metadata": {},
   "outputs": [
    {
     "data": {
      "text/plain": [
       "VotingClassifier(estimators=[('RFOR',\n",
       "                              RandomForestClassifier(bootstrap=False,\n",
       "                                                     class_weight='balanced',\n",
       "                                                     max_depth=30,\n",
       "                                                     max_features='sqrt',\n",
       "                                                     n_estimators=600,\n",
       "                                                     random_state=1234)),\n",
       "                             ('RNN',\n",
       "                              MLPClassifier(activation='logistic',\n",
       "                                            hidden_layer_sizes=(20, 100, 2),\n",
       "                                            max_iter=1620, random_state=1234)),\n",
       "                             ('ABO',\n",
       "                              GaussianProcessClassifier(kernel=1**2 * RBF(length_scale=5))),\n",
       "                             ('XGB',\n",
       "                              XGBClassifier(colsample_bytree=0.7, max_depth=5,\n",
       "                                            min_child_weight=7,\n",
       "                                            objective='reg:linear'))])"
      ]
     },
     "execution_count": 42,
     "metadata": {},
     "output_type": "execute_result"
    }
   ],
   "source": [
    "from sklearn.gaussian_process import GaussianProcessClassifier\n",
    "from sklearn.gaussian_process.kernels import RBF\n",
    "class_RFO = RandomForestClassifier(class_weight=\"balanced\",n_estimators=600, min_samples_split= 2, min_samples_leaf=1, max_features= 'sqrt', max_depth= 30, bootstrap=False, random_state=semilla_aleatoria)\n",
    "class_RNN = MLPClassifier(solver='adam',max_iter=1620, learning_rate='constant', hidden_layer_sizes=(20, 100, 2), alpha=0.0001, activation='logistic', random_state=semilla_aleatoria)\n",
    "#class_ABO = AdaBoostClassifier(n_estimators= 1645, learning_rate= 0.1, algorithm= 'SAMME.R',random_state=semilla_aleatoria)\n",
    "class_XGB = XGBClassifier(subsample= 1, objective='reg:linear', n_estimators= 100, min_child_weight= 7, max_depth= 5, learning_rate= 0.1, colsample_bytree= 0.7)\n",
    "class_ABO = GaussianProcessClassifier(1.0 * RBF(5.0))\n",
    "dtc_model = VotingClassifier(estimators=[('RFOR', class_RFO),('RNN',class_RNN),('ABO', class_ABO),('XGB',class_XGB)], voting='hard')\n",
    "dtc_model.fit(X_train, y_train)"
   ]
  },
  {
   "cell_type": "code",
   "execution_count": null,
   "metadata": {},
   "outputs": [],
   "source": [
    "from sklearn.linear_model import SGDClassifier\n",
    "from sklearn.gaussian_process import GaussianProcessClassifier\n",
    "from sklearn.neighbors import KNeighborsClassifier\n",
    "from sklearn.gaussian_process.kernels import RBF\n",
    "from sklearn.discriminant_analysis import QuadraticDiscriminantAnalysis\n",
    "from sklearn.svm import SVC\n",
    "dtc_model = SVC(gamma=2, C=2)\n",
    "dtc_model.fit(X_train, y_train)"
   ]
  },
  {
   "cell_type": "markdown",
   "metadata": {},
   "source": [
    "#### Haciendo una predicción con el set de prueba"
   ]
  },
  {
   "cell_type": "code",
   "execution_count": 43,
   "metadata": {},
   "outputs": [
    {
     "name": "stdout",
     "output_type": "stream",
     "text": [
      "['Aceptado' 'Aceptado' 'Sospechoso' 'Aceptado' 'Aceptado' 'Aceptado'\n",
      " 'Aceptado' 'Aceptado' 'Aceptado' 'Sospechoso' 'Aceptado' 'Sospechoso'\n",
      " 'Aceptado' 'Aceptado' 'Sospechoso' 'Aceptado' 'Aceptado' 'Sospechoso'\n",
      " 'Aceptado' 'Aceptado' 'Aceptado' 'Sospechoso' 'Aceptado' 'Aceptado'\n",
      " 'Aceptado' 'Aceptado' 'Aceptado' 'Aceptado' 'Aceptado' 'Aceptado'\n",
      " 'Aceptado' 'Sospechoso' 'Sospechoso' 'Aceptado' 'Sospechoso' 'Aceptado'\n",
      " 'Aceptado' 'Aceptado' 'Sospechoso' 'Sospechoso' 'Aceptado' 'Aceptado'\n",
      " 'Sospechoso' 'Aceptado' 'Aceptado' 'Sospechoso' 'Sospechoso' 'Aceptado'\n",
      " 'Sospechoso' 'Aceptado' 'Aceptado' 'Aceptado' 'Aceptado' 'Aceptado'\n",
      " 'Aceptado' 'Sospechoso' 'Aceptado' 'Aceptado' 'Aceptado' 'Aceptado'\n",
      " 'Aceptado' 'Aceptado' 'Aceptado' 'Aceptado' 'Aceptado' 'Aceptado'\n",
      " 'Aceptado' 'Aceptado' 'Aceptado' 'Aceptado' 'Sospechoso' 'Aceptado'\n",
      " 'Aceptado' 'Aceptado' 'Aceptado' 'Sospechoso' 'Aceptado' 'Aceptado'\n",
      " 'Aceptado' 'Aceptado' 'Aceptado' 'Aceptado' 'Aceptado' 'Aceptado'\n",
      " 'Aceptado' 'Aceptado' 'Aceptado' 'Aceptado' 'Sospechoso' 'Aceptado'\n",
      " 'Aceptado' 'Aceptado' 'Aceptado' 'Aceptado' 'Aceptado' 'Aceptado'\n",
      " 'Aceptado' 'Sospechoso' 'Aceptado' 'Aceptado' 'Aceptado' 'Aceptado'\n",
      " 'Aceptado' 'Aceptado' 'Aceptado' 'Sospechoso' 'Aceptado' 'Aceptado'\n",
      " 'Aceptado' 'Aceptado' 'Sospechoso' 'Aceptado' 'Aceptado' 'Aceptado'\n",
      " 'Aceptado' 'Aceptado' 'Aceptado' 'Aceptado' 'Aceptado' 'Sospechoso'\n",
      " 'Aceptado' 'Aceptado' 'Aceptado' 'Aceptado' 'Aceptado' 'Aceptado'\n",
      " 'Aceptado' 'Aceptado' 'Aceptado' 'Aceptado' 'Aceptado' 'Aceptado'\n",
      " 'Aceptado' 'Aceptado' 'Sospechoso' 'Aceptado' 'Aceptado' 'Aceptado'\n",
      " 'Aceptado' 'Aceptado' 'Aceptado' 'Aceptado' 'Aceptado' 'Aceptado'\n",
      " 'Aceptado' 'Aceptado' 'Aceptado' 'Sospechoso' 'Aceptado' 'Aceptado'\n",
      " 'Aceptado' 'Aceptado' 'Aceptado' 'Aceptado' 'Sospechoso' 'Aceptado'\n",
      " 'Aceptado' 'Aceptado' 'Aceptado' 'Sospechoso' 'Sospechoso' 'Aceptado'\n",
      " 'Aceptado' 'Aceptado' 'Aceptado' 'Aceptado' 'Aceptado' 'Aceptado'\n",
      " 'Aceptado' 'Aceptado' 'Sospechoso' 'Aceptado' 'Aceptado' 'Aceptado'\n",
      " 'Aceptado' 'Aceptado' 'Sospechoso' 'Aceptado' 'Aceptado' 'Aceptado'\n",
      " 'Sospechoso' 'Aceptado' 'Aceptado' 'Aceptado' 'Sospechoso' 'Sospechoso'\n",
      " 'Aceptado' 'Sospechoso' 'Sospechoso' 'Aceptado' 'Aceptado' 'Aceptado'\n",
      " 'Aceptado' 'Aceptado' 'Aceptado' 'Aceptado' 'Aceptado' 'Aceptado'\n",
      " 'Aceptado' 'Aceptado' 'Aceptado' 'Aceptado' 'Aceptado' 'Aceptado'\n",
      " 'Aceptado' 'Aceptado' 'Aceptado' 'Sospechoso' 'Sospechoso' 'Aceptado'\n",
      " 'Aceptado' 'Aceptado' 'Aceptado' 'Aceptado' 'Sospechoso' 'Aceptado'\n",
      " 'Aceptado' 'Aceptado' 'Aceptado' 'Aceptado' 'Aceptado' 'Sospechoso'\n",
      " 'Aceptado' 'Aceptado' 'Sospechoso' 'Aceptado' 'Aceptado' 'Aceptado'\n",
      " 'Aceptado' 'Aceptado' 'Aceptado' 'Aceptado' 'Aceptado' 'Sospechoso'\n",
      " 'Aceptado' 'Aceptado' 'Aceptado' 'Aceptado' 'Aceptado' 'Aceptado'\n",
      " 'Aceptado' 'Aceptado' 'Aceptado' 'Aceptado' 'Aceptado' 'Sospechoso'\n",
      " 'Sospechoso' 'Aceptado' 'Aceptado' 'Aceptado' 'Sospechoso' 'Aceptado'\n",
      " 'Sospechoso' 'Aceptado' 'Aceptado' 'Aceptado' 'Sospechoso' 'Aceptado'\n",
      " 'Aceptado' 'Sospechoso' 'Aceptado' 'Aceptado' 'Aceptado' 'Aceptado'\n",
      " 'Aceptado' 'Aceptado' 'Aceptado' 'Aceptado' 'Sospechoso' 'Sospechoso'\n",
      " 'Aceptado' 'Aceptado' 'Aceptado' 'Aceptado' 'Aceptado' 'Sospechoso'\n",
      " 'Sospechoso' 'Aceptado' 'Aceptado' 'Aceptado' 'Aceptado' 'Aceptado'\n",
      " 'Aceptado' 'Aceptado' 'Aceptado' 'Aceptado' 'Sospechoso' 'Aceptado'\n",
      " 'Aceptado' 'Aceptado' 'Sospechoso' 'Aceptado' 'Aceptado' 'Aceptado'\n",
      " 'Aceptado' 'Aceptado' 'Aceptado' 'Aceptado' 'Aceptado' 'Aceptado'\n",
      " 'Aceptado' 'Sospechoso' 'Aceptado' 'Aceptado' 'Aceptado' 'Aceptado'\n",
      " 'Sospechoso' 'Aceptado' 'Aceptado' 'Aceptado' 'Aceptado' 'Sospechoso'\n",
      " 'Aceptado' 'Aceptado' 'Sospechoso' 'Aceptado' 'Aceptado' 'Sospechoso'\n",
      " 'Aceptado' 'Aceptado' 'Aceptado' 'Aceptado' 'Sospechoso' 'Aceptado'\n",
      " 'Aceptado' 'Aceptado' 'Aceptado' 'Aceptado' 'Aceptado' 'Aceptado'\n",
      " 'Sospechoso' 'Aceptado' 'Aceptado' 'Sospechoso' 'Aceptado' 'Aceptado'\n",
      " 'Aceptado' 'Aceptado' 'Aceptado' 'Aceptado' 'Aceptado' 'Aceptado'\n",
      " 'Aceptado' 'Aceptado' 'Aceptado' 'Aceptado' 'Aceptado' 'Sospechoso'\n",
      " 'Aceptado' 'Aceptado' 'Sospechoso' 'Aceptado' 'Aceptado' 'Aceptado'\n",
      " 'Aceptado' 'Aceptado' 'Aceptado' 'Aceptado' 'Aceptado' 'Aceptado'\n",
      " 'Aceptado' 'Aceptado' 'Aceptado' 'Aceptado' 'Sospechoso' 'Sospechoso'\n",
      " 'Aceptado' 'Aceptado' 'Aceptado' 'Aceptado' 'Aceptado' 'Aceptado'\n",
      " 'Aceptado' 'Aceptado' 'Aceptado' 'Sospechoso' 'Aceptado' 'Aceptado'\n",
      " 'Aceptado' 'Aceptado' 'Aceptado' 'Aceptado' 'Aceptado' 'Aceptado'\n",
      " 'Aceptado' 'Aceptado' 'Aceptado' 'Aceptado' 'Aceptado' 'Sospechoso'\n",
      " 'Aceptado' 'Aceptado' 'Sospechoso' 'Aceptado' 'Aceptado' 'Aceptado'\n",
      " 'Aceptado' 'Aceptado' 'Aceptado' 'Aceptado' 'Aceptado' 'Aceptado'\n",
      " 'Aceptado' 'Sospechoso' 'Aceptado' 'Aceptado' 'Sospechoso' 'Sospechoso'\n",
      " 'Aceptado' 'Aceptado' 'Aceptado' 'Aceptado' 'Aceptado' 'Aceptado'\n",
      " 'Aceptado' 'Aceptado' 'Sospechoso' 'Aceptado' 'Aceptado' 'Aceptado'\n",
      " 'Aceptado' 'Aceptado' 'Aceptado' 'Sospechoso' 'Aceptado' 'Aceptado'\n",
      " 'Aceptado' 'Aceptado' 'Aceptado' 'Aceptado' 'Aceptado' 'Aceptado'\n",
      " 'Aceptado' 'Aceptado' 'Aceptado' 'Aceptado' 'Aceptado' 'Aceptado'\n",
      " 'Aceptado' 'Aceptado' 'Aceptado' 'Aceptado' 'Aceptado' 'Aceptado'\n",
      " 'Aceptado' 'Sospechoso' 'Aceptado' 'Aceptado' 'Aceptado' 'Sospechoso'\n",
      " 'Aceptado' 'Aceptado' 'Aceptado' 'Aceptado' 'Aceptado' 'Aceptado'\n",
      " 'Aceptado' 'Aceptado' 'Aceptado' 'Aceptado' 'Aceptado' 'Aceptado'\n",
      " 'Aceptado' 'Sospechoso' 'Aceptado' 'Aceptado' 'Aceptado' 'Aceptado'\n",
      " 'Aceptado' 'Sospechoso' 'Sospechoso' 'Sospechoso' 'Aceptado' 'Aceptado'\n",
      " 'Aceptado' 'Sospechoso' 'Aceptado' 'Sospechoso' 'Aceptado' 'Aceptado'\n",
      " 'Aceptado' 'Aceptado' 'Aceptado' 'Aceptado' 'Aceptado' 'Aceptado'\n",
      " 'Sospechoso' 'Aceptado' 'Aceptado' 'Aceptado' 'Aceptado' 'Aceptado'\n",
      " 'Aceptado' 'Aceptado' 'Aceptado' 'Aceptado' 'Aceptado' 'Aceptado'\n",
      " 'Sospechoso' 'Sospechoso' 'Aceptado' 'Sospechoso' 'Sospechoso' 'Aceptado'\n",
      " 'Aceptado' 'Aceptado' 'Aceptado' 'Aceptado' 'Aceptado' 'Aceptado'\n",
      " 'Aceptado' 'Aceptado' 'Aceptado' 'Aceptado' 'Aceptado' 'Aceptado'\n",
      " 'Aceptado' 'Aceptado' 'Aceptado' 'Aceptado' 'Aceptado' 'Aceptado'\n",
      " 'Aceptado' 'Sospechoso' 'Aceptado' 'Aceptado' 'Aceptado' 'Sospechoso'\n",
      " 'Aceptado' 'Aceptado' 'Sospechoso' 'Aceptado' 'Sospechoso' 'Sospechoso'\n",
      " 'Aceptado' 'Aceptado' 'Aceptado' 'Sospechoso' 'Sospechoso' 'Sospechoso'\n",
      " 'Sospechoso' 'Sospechoso' 'Aceptado' 'Aceptado' 'Aceptado' 'Sospechoso'\n",
      " 'Aceptado' 'Aceptado' 'Aceptado' 'Aceptado' 'Sospechoso' 'Aceptado'\n",
      " 'Aceptado' 'Aceptado' 'Aceptado' 'Aceptado' 'Aceptado' 'Aceptado'\n",
      " 'Aceptado' 'Aceptado' 'Aceptado' 'Aceptado' 'Aceptado' 'Aceptado'\n",
      " 'Aceptado' 'Aceptado' 'Aceptado' 'Aceptado' 'Aceptado' 'Aceptado'\n",
      " 'Aceptado' 'Aceptado' 'Aceptado' 'Aceptado' 'Aceptado' 'Aceptado'\n",
      " 'Aceptado' 'Aceptado' 'Aceptado' 'Aceptado' 'Sospechoso' 'Aceptado'\n",
      " 'Aceptado' 'Aceptado' 'Aceptado' 'Aceptado' 'Aceptado' 'Aceptado'\n",
      " 'Aceptado' 'Aceptado' 'Aceptado' 'Sospechoso' 'Aceptado' 'Aceptado'\n",
      " 'Aceptado' 'Aceptado' 'Sospechoso' 'Aceptado' 'Aceptado' 'Sospechoso'\n",
      " 'Aceptado' 'Sospechoso' 'Aceptado' 'Sospechoso' 'Aceptado' 'Aceptado'\n",
      " 'Sospechoso' 'Sospechoso' 'Aceptado' 'Aceptado' 'Aceptado' 'Aceptado'\n",
      " 'Aceptado' 'Aceptado' 'Aceptado' 'Aceptado' 'Sospechoso' 'Aceptado'\n",
      " 'Aceptado' 'Aceptado' 'Aceptado' 'Sospechoso' 'Aceptado' 'Aceptado'\n",
      " 'Sospechoso' 'Aceptado' 'Aceptado' 'Aceptado' 'Aceptado' 'Aceptado'\n",
      " 'Aceptado' 'Aceptado' 'Aceptado']\n"
     ]
    }
   ],
   "source": [
    "y_pred = dtc_model.predict(X_test)\n",
    "print(y_pred)"
   ]
  },
  {
   "cell_type": "markdown",
   "metadata": {},
   "source": [
    "### Matriz de confusion"
   ]
  },
  {
   "cell_type": "code",
   "execution_count": 44,
   "metadata": {},
   "outputs": [
    {
     "data": {
      "text/plain": [
       "array([[495,   9],\n",
       "       [ 29, 100]])"
      ]
     },
     "metadata": {},
     "output_type": "display_data"
    },
    {
     "name": "stdout",
     "output_type": "stream",
     "text": [
      "              precision    recall  f1-score   support\n",
      "\n",
      "    Aceptado       0.94      0.98      0.96       504\n",
      "  Sospechoso       0.92      0.78      0.84       129\n",
      "\n",
      "    accuracy                           0.94       633\n",
      "   macro avg       0.93      0.88      0.90       633\n",
      "weighted avg       0.94      0.94      0.94       633\n",
      "\n"
     ]
    }
   ],
   "source": [
    "display(confusion_matrix(y_test,y_pred))\n",
    "class_report=classification_report(y_test,y_pred)\n",
    "print(class_report) "
   ]
  },
  {
   "cell_type": "markdown",
   "metadata": {},
   "source": [
    "#### Analizar la calidad del modelo a través de la matriz de confusión"
   ]
  },
  {
   "cell_type": "code",
   "execution_count": 45,
   "metadata": {},
   "outputs": [
    {
     "data": {
      "text/plain": [
       "Text(0.5, 15.0, 'Predicted label\\n\\nAccuracy=0.940\\nPrecision=0.917\\nRecall=0.775\\nF1 Score=0.8403361344537815')"
      ]
     },
     "execution_count": 45,
     "metadata": {},
     "output_type": "execute_result"
    },
    {
     "data": {
      "image/png": "[encoded data removed]",
      "text/plain": [
       "<Figure size 432x288 with 2 Axes>"
      ]
     },
     "metadata": {
      "needs_background": "light"
     },
     "output_type": "display_data"
    }
   ],
   "source": [
    "from sklearn.metrics import confusion_matrix\n",
    "\n",
    "cf_matrix = confusion_matrix(y_test, y_pred)\n",
    "group_names = ['Aprobado `Aceptado`', 'Refused `Sospechoso`', 'Refused `Aceptado`', 'Aprobado `Sospechoso`']\n",
    "group_counts = ['{0:0.0f}'.format(value) for value in cf_matrix.flatten()]\n",
    "group_percentages = ['{0:.2%}'.format(value) for value in cf_matrix.flatten()/np.sum(cf_matrix)]\n",
    "labels = [f'{v1}\\n{v2}\\n{v3}' for v1, v2, v3 in zip(group_names, group_counts, group_percentages)]\n",
    "labels = np.asarray(labels).reshape(2,2)\n",
    "accuracy  = np.trace(cf_matrix) / float(np.sum(cf_matrix))\n",
    "precision = cf_matrix[1,1] / sum(cf_matrix[:,1])\n",
    "recall    = cf_matrix[1,1] / sum(cf_matrix[1,:])\n",
    "f1_score  = 2*precision*recall / (precision + recall)\n",
    "sns.heatmap(cf_matrix, annot=labels, fmt='')\n",
    "stats_text = \"\\n\\nAccuracy={:0.3f}\\nPrecision={:0.3f}\\nRecall={:0.3f}\\nF1 Score={}\".format(accuracy, precision, recall, f1_score)\n",
    "plt.ylabel('True label')\n",
    "plt.xlabel('Predicted label' + stats_text)"
   ]
  },
  {
   "cell_type": "markdown",
   "metadata": {},
   "source": [
    "### Validacion Cruzada Kfolds"
   ]
  },
  {
   "cell_type": "code",
   "execution_count": null,
   "metadata": {},
   "outputs": [],
   "source": [
    "def graficar_accuracy_scores(estimator, train_x, train_y,test_x,test_y,nparts=5,jobs=None):\n",
    "    kfold = KFold(n_splits=nparts,shuffle=True, random_state=semilla_aleatoria)\n",
    "    fig,axes = plt.subplots(figsize=(7, 3))\n",
    "    axes.set_title(\"Ratio de éxito(Accuracy)/Nro. Fold\")\n",
    "    axes.set_xlabel(\"Nro. Fold\")\n",
    "    axes.set_ylabel(\"Accuracy\")    \n",
    "    train_scores = cross_val_score(estimator, train_x,train_y, cv = kfold, n_jobs=jobs, scoring=\"accuracy\")\n",
    "    test_scores = cross_val_score(estimator, test_x, test_y, cv = kfold, n_jobs=jobs, scoring=\"accuracy\")        \n",
    "    train_sizes = range(1,nparts+1,1)    \n",
    "    axes.grid()    \n",
    "    axes.plot(train_sizes, train_scores, 'o-', color=\"r\",label=\"Datos Entrenamiento\")\n",
    "    axes.plot(train_sizes, test_scores, 'o-', color=\"g\",label=\"Validacion Cruzada\")\n",
    "    axes.legend(loc=\"best\")\n",
    "    return train_scores"
   ]
  },
  {
   "cell_type": "code",
   "execution_count": null,
   "metadata": {},
   "outputs": [],
   "source": [
    "graficar_accuracy_scores(dtc_model,X_train,y_train,X_test,y_test,nparts=5,jobs=2)"
   ]
  },
  {
   "cell_type": "markdown",
   "metadata": {},
   "source": [
    "### Tunning de los Hiperparametros de los Modelos\n",
    "Correr únicamente si se desea hacer una mejora en los hiper parametros"
   ]
  },
  {
   "cell_type": "markdown",
   "metadata": {},
   "source": [
    "#### Cambiar esta celda a CODE\n",
    "parameter_space = {\n",
    "    'RFOR__n_estimators':  [int(x) for x in np.linspace(start = 200, stop = 2000, num = 10)],\n",
    "    'RFOR__max_features': ['auto', 'sqrt'],\n",
    "    'RFOR__max_depth': [int(x) for x in np.linspace(10, 110, num = 11)],\n",
    "    'RFOR__min_samples_split': [2, 5, 10],\n",
    "    'RFOR__min_samples_leaf':  [1, 2, 4],\n",
    "    'RFOR__bootstrap': [True, False],        \n",
    "    'RNN__hidden_layer_sizes': [(10,40,2),(20,100,4),(20,100,2),(100,100,8),(10,200,4)],\n",
    "    'RNN__activation': ['identity', 'logistic', 'tanh', 'relu'],\n",
    "    'RNN__solver': ['sgd', 'adam'],\n",
    "    'RNN__alpha': [0.0001, 0.05, 0.02, 0.1],\n",
    "    'RNN__max_iter': [int(x) for x in np.linspace(start = 100, stop = 2000, num = 6)],              \n",
    "    'RNN__learning_rate': ['constant','adaptive'],\n",
    "    'ABO__n_estimators':  [int(x) for x in np.linspace(start = 50, stop = 2000, num = 12)],\n",
    "    'ABO__learning_rate': [1.0, 0.1, 0.01, 0.001],\n",
    "    'ABO__algorithm': ['SAMME', 'SAMME.R'],    \n",
    "    'XGB__objective':'reg:linear',\n",
    "    'XGB__learning_rate': [0.01, 0.1],\n",
    "    'XGB__max_depth': [3, 5, 7, 10],\n",
    "    'XGB__min_child_weight': [1, 3, 5, 7],\n",
    "    'XGB__subsample': [0.5, 0.7, 1],\n",
    "    'XGB__colsample_bytree': [0.5, 0.7, 1 ],\n",
    "    'XGB__n_estimators' : [100, 200, 500],\n",
    "    'XGB__objective': ['reg:squarederror','reg:linear']\n",
    "\n",
    "}\n",
    "\n",
    "clf_CV = RandomizedSearchCV(dtc_model, parameter_space, n_jobs=-1, cv=5)\n",
    "clf_CV.fit(X_train, y_train) \n",
    "print('Los parametros optimizados son:\\n', clf_CV.best_params_)"
   ]
  },
  {
   "cell_type": "markdown",
   "metadata": {},
   "source": [
    "##### ¡ATENCIÓN! Su puntuación en este desafío de clasificación se basará en la puntuación F1 del modelo al predecir el dataset de evaluación."
   ]
  },
  {
   "cell_type": "markdown",
   "metadata": {},
   "source": [
    "<hr>"
   ]
  },
  {
   "cell_type": "markdown",
   "metadata": {},
   "source": [
    "## Puntuación de los datos necesarios para entregar la solución\n",
    "\n",
    "Como entrega de su solución, esperamos que los resultados se clasifiquen en el siguiente conjunto de datos llamado \"to_be_scored_compusoluciones.csv\":\n",
    "\n",
    "### Descarga la \"hoja de evaluación\""
   ]
  },
  {
   "cell_type": "code",
   "execution_count": null,
   "metadata": {},
   "outputs": [],
   "source": [
    "!wget --no-check-certificate --content-disposition https://raw.githubusercontent.com/vanderlei-test/dataset/master/to_be_scored_compusoluciones.csv\n",
    "df_to_be_scored = pd.read_csv(r'to_be_scored_compusoluciones.csv')\n",
    "df_to_be_scored.tail()"
   ]
  },
  {
   "cell_type": "markdown",
   "metadata": {},
   "source": [
    "# ¡Atención!\n",
    "\n",
    "El Dataframe ``to_be_scored_compusoluciones`` es su \"hoja de evaluación\". Tenga en cuenta que a la columna \"OBJETIVO\" le faltan datos en este ejemplo, que luego no se pueden usar para entrenar modelos de aprendizaje supervisado."
   ]
  },
  {
   "cell_type": "code",
   "execution_count": null,
   "metadata": {},
   "outputs": [],
   "source": [
    "df_to_be_scored.info()"
   ]
  },
  {
   "cell_type": "markdown",
   "metadata": {},
   "source": [
    "<hr>\n",
    "\n",
    "# ¡Atención!\n",
    "\n",
    "# Para aplicar su modelo y clasificar la hoja de evaluación, primero debe aplicar las mismas transformaciones de columnas que aplicó al conjunto de datos de entrenamiento.\n",
    "\n",
    "# No elimine ni agregue líneas a la hoja de respuestas.\n",
    "\n",
    "# No cambie el orden de las líneas en la hoja de respuestas.\n",
    "\n",
    "# Al final, se deben clasificar las 600 entradas, con los valores calculados en la columna \"target\"\n",
    "\n",
    "<hr>"
   ]
  },
  {
   "cell_type": "markdown",
   "metadata": {},
   "source": [
    "En la celda de abajo, repetimos rápidamente los mismos pasos de preprocesamiento usados ​​en el ejemplo dado con el árbol de decisiones"
   ]
  },
  {
   "cell_type": "code",
   "execution_count": null,
   "metadata": {},
   "outputs": [],
   "source": [
    "# Aplicar la transformaciones al conjunto de datos base\n",
    "df_to_be_scored_2 = DropColumns(columns=columnas_eliminar).fit_transform(X=df_to_be_scored)\n",
    "df_to_be_scored_3 = DataFrameImputer().fit_transform(df_to_be_scored_2)\n",
    "df_to_be_scored_4 = DataScaleImputer(columns=[]).fit_transform(df_to_be_scored_3)"
   ]
  },
  {
   "cell_type": "code",
   "execution_count": null,
   "metadata": {},
   "outputs": [],
   "source": [
    "# Realización de una prueba a ciegas en el modelo creado\n",
    "y_pred = dtc_model.predict(df_to_be_scored_4[columnas_modelo])"
   ]
  },
  {
   "cell_type": "code",
   "execution_count": null,
   "metadata": {},
   "outputs": [],
   "source": [
    "# Agregando las respuestas en la columna \"target\"\n",
    "df_to_be_scored_4['target'] = y_pred\n",
    "df_to_be_scored_4.tail()"
   ]
  },
  {
   "cell_type": "markdown",
   "metadata": {},
   "source": [
    "### Guardar la hoja de respuestas como un archivo .csv para enviar\n",
    "**SI YA TIENE UN DATA ASSET CON EL NOMBRE `results.csv` EN ESTE PROYECTO O EN OTRO PROYECTO DE WATSON STUDIO DEBE BORRAR EL ARCHIVO ANTES DE CORRER LA SIGUIENTE CELDA O TENDRA EL ERROR: _RuntimeError: File 'results.csv' already exists in storage._**"
   ]
  },
  {
   "cell_type": "code",
   "execution_count": null,
   "metadata": {},
   "outputs": [],
   "source": [
    "project.save_data(file_name=\"results.csv\", data=df_to_be_scored_4.to_csv(index=False))"
   ]
  },
  {
   "cell_type": "markdown",
   "metadata": {},
   "source": [
    "# Atención\n",
    "\n",
    "# La ejecución de la celda anterior creará un nuevo \"data asset\" en su proyecto de Watson Studio. Deberá descargar este archivo junto con este cuaderno y crear un archivo zip con **results.csv** y **notebook.ipynb** para enviarlo. (los archivos deben tener este nombre)"
   ]
  },
  {
   "cell_type": "markdown",
   "metadata": {},
   "source": [
    "<hr>\n",
    "\n",
    "## ¡Felicitaciones! \n",
    "\n",
    "Si ya está satisfecho con su solución, vaya a la página siguiente y envíe los archivos necesarios para su envío.\n",
    "\n",
    "# https://compusoluciones.maratona.dev"
   ]
  },
  {
   "cell_type": "code",
   "execution_count": null,
   "metadata": {},
   "outputs": [],
   "source": []
  }
 ],
 "metadata": {
  "kernelspec": {
   "display_name": "Python 3",
   "language": "python",
   "name": "python3"
  },
  "language_info": {
   "codemirror_mode": {
    "name": "ipython",
    "version": 3
   },
   "file_extension": ".py",
   "mimetype": "text/x-python",
   "name": "python",
   "nbconvert_exporter": "python",
   "pygments_lexer": "ipython3",
   "version": "3.8.2"
  }
 },
 "nbformat": 4,
 "nbformat_minor": 4
}
