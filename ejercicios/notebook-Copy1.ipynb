{
 "cells": [
  {
   "cell_type": "code",
   "execution_count": null,
   "metadata": {},
   "outputs": [],
   "source": []
  },
  {
   "cell_type": "markdown",
   "metadata": {},
   "source": [
    "# MARATÓN BEHIND THE CODE 2020\n",
    "\n",
    "# DESAFÍO 8 - Digital House\n",
    "\n",
    "El reto de Digital House tiene que ver con la misión y visión de la empresa; la cual busca transformar la vida de las personas, desarrollando competencias digitales, para que generen un impacto positivo en la sociedad. En ese sentido, Digital House busca a través de este desafío medir la empleabilidad de los cursos que disponibiliza en su plataforma, es decir que tan factible es que un alumno o egresado de Digital House acceda al mercado laboral o consiga un trabajo en su área luego de finalizar uno o varios de los cursos ofrecidos en la plataforma.\n",
    "\n",
    "Entender que características o variables hacen que una persona sea más o menos empleable es fundamental para la empresa y para generar ese impacto positivo que busca aportar a la sociedad\n",
    "\n",
    "<hr>\n",
    "\n",
    "## Instalación de algunas bibliotecas de Python"
   ]
  },
  {
   "cell_type": "code",
   "execution_count": 1,
   "metadata": {},
   "outputs": [
    {
     "name": "stdout",
     "output_type": "stream",
     "text": [
      "/bin/bash: pip: command not found\n",
      "/bin/bash: pip: command not found\n"
     ]
    }
   ],
   "source": [
    "!pip install scikit-learn --upgrade\n",
    "!pip install scipy --upgrade"
   ]
  },
  {
   "cell_type": "code",
   "execution_count": 2,
   "metadata": {},
   "outputs": [],
   "source": [
    "import pandas as pd\n",
    "from sklearn.compose import ColumnTransformer\n",
    "from sklearn.base import BaseEstimator, TransformerMixin\n",
    "import numpy as np\n",
    "from sklearn.preprocessing import StandardScaler, OneHotEncoder, LabelEncoder, Normalizer\n",
    "import tensorflow as tf\n",
    "from tensorflow import keras\n",
    "from sklearn.model_selection import train_test_split\n",
    "import matplotlib.pyplot as plt\n",
    "from sklearn.gaussian_process import GaussianProcessClassifier\n",
    "from sklearn.gaussian_process.kernels import RBF\n",
    "from sklearn.neural_network import MLPClassifier\n",
    "from sklearn.ensemble import RandomForestRegressor, VotingClassifier, AdaBoostClassifier\n",
    "from xgboost import XGBClassifier\n",
    "from sklearn.metrics import accuracy_score, f1_score, confusion_matrix, classification_report\n",
    "from tensorflow.keras import layers\n",
    "from tensorflow.keras import regularizers\n",
    "from sklearn.model_selection import KFold, cross_validate, cross_val_score, RandomizedSearchCV\n",
    "from sklearn.metrics import confusion_matrix\n",
    "import matplotlib.pyplot as plt\n",
    "import seaborn as sns\n",
    "import matplotlib.gridspec as gridspec\n",
    "import tensorflow as tf\n",
    "from tensorflow import keras\n",
    "from sklearn.decomposition import PCA\n",
    "from sklearn.svm import SVC"
   ]
  },
  {
   "cell_type": "markdown",
   "metadata": {},
   "source": [
    "<hr>\n",
    "\n",
    "## Descargue el conjunto de datos del desafío en formato .csv"
   ]
  },
  {
   "cell_type": "code",
   "execution_count": 3,
   "metadata": {},
   "outputs": [
    {
     "name": "stdout",
     "output_type": "stream",
     "text": [
      "--2020-09-18 17:38:07--  https://raw.githubusercontent.com/vanderlei-test/654986294958/master/train_dataset_digitalhouse.csv\n",
      "Resolving raw.githubusercontent.com (raw.githubusercontent.com)... 151.101.204.133\n",
      "Connecting to raw.githubusercontent.com (raw.githubusercontent.com)|151.101.204.133|:443... connected.\n",
      "HTTP request sent, awaiting response... 200 OK\n",
      "Length: 654532 (639K) [text/plain]\n",
      "Saving to: ‘train_dataset_digitalhouse.csv.5’\n",
      "\n",
      "train_dataset_digit 100%[===================>] 639.19K   460KB/s    in 1.4s    \n",
      "\n",
      "2020-09-18 17:38:09 (460 KB/s) - ‘train_dataset_digitalhouse.csv.5’ saved [654532/654532]\n",
      "\n"
     ]
    },
    {
     "data": {
      "text/html": [
       "<div>\n",
       "<style scoped>\n",
       "    .dataframe tbody tr th:only-of-type {\n",
       "        vertical-align: middle;\n",
       "    }\n",
       "\n",
       "    .dataframe tbody tr th {\n",
       "        vertical-align: top;\n",
       "    }\n",
       "\n",
       "    .dataframe thead th {\n",
       "        text-align: right;\n",
       "    }\n",
       "</style>\n",
       "<table border=\"1\" class=\"dataframe\">\n",
       "  <thead>\n",
       "    <tr style=\"text-align: right;\">\n",
       "      <th></th>\n",
       "      <th>Unnamed: 0</th>\n",
       "      <th>EDAD</th>\n",
       "      <th>GENERO</th>\n",
       "      <th>RESIDENCIA</th>\n",
       "      <th>NV_ESTUDIO</th>\n",
       "      <th>ESTUDIO_PREV</th>\n",
       "      <th>TRACK_DH</th>\n",
       "      <th>AVG_DH</th>\n",
       "      <th>MINUTES_DH</th>\n",
       "      <th>EXPERIENCIA</th>\n",
       "      <th>DIAS_EMP</th>\n",
       "    </tr>\n",
       "  </thead>\n",
       "  <tbody>\n",
       "    <tr>\n",
       "      <th>8990</th>\n",
       "      <td>9995</td>\n",
       "      <td>29.0</td>\n",
       "      <td>MASCULINO</td>\n",
       "      <td>ARGENTINA</td>\n",
       "      <td>TERTIARY</td>\n",
       "      <td>DEVELOPMENT</td>\n",
       "      <td>NaN</td>\n",
       "      <td>4.0</td>\n",
       "      <td>4701.6</td>\n",
       "      <td>9.1</td>\n",
       "      <td>86.0</td>\n",
       "    </tr>\n",
       "    <tr>\n",
       "      <th>8991</th>\n",
       "      <td>9996</td>\n",
       "      <td>34.0</td>\n",
       "      <td>NaN</td>\n",
       "      <td>ARGENTINA</td>\n",
       "      <td>UNIVERSITARY</td>\n",
       "      <td>ENGINEERING</td>\n",
       "      <td>PROGRAMACION</td>\n",
       "      <td>3.4</td>\n",
       "      <td>4646.2</td>\n",
       "      <td>16.8</td>\n",
       "      <td>95.0</td>\n",
       "    </tr>\n",
       "    <tr>\n",
       "      <th>8992</th>\n",
       "      <td>9997</td>\n",
       "      <td>28.0</td>\n",
       "      <td>FEMENINO</td>\n",
       "      <td>ARGENTINA</td>\n",
       "      <td>POST_GRADUATE</td>\n",
       "      <td>ENGINEERING</td>\n",
       "      <td>EJECUTIVO</td>\n",
       "      <td>NaN</td>\n",
       "      <td>3315.1</td>\n",
       "      <td>5.6</td>\n",
       "      <td>95.0</td>\n",
       "    </tr>\n",
       "    <tr>\n",
       "      <th>8993</th>\n",
       "      <td>9998</td>\n",
       "      <td>23.0</td>\n",
       "      <td>MASCULINO</td>\n",
       "      <td>MEXICO</td>\n",
       "      <td>TERTIARY</td>\n",
       "      <td>ENGINEERING</td>\n",
       "      <td>PROGRAMACION</td>\n",
       "      <td>3.3</td>\n",
       "      <td>4437.8</td>\n",
       "      <td>0.9</td>\n",
       "      <td>87.0</td>\n",
       "    </tr>\n",
       "    <tr>\n",
       "      <th>8994</th>\n",
       "      <td>9999</td>\n",
       "      <td>36.0</td>\n",
       "      <td>MASCULINO</td>\n",
       "      <td>ARGENTINA</td>\n",
       "      <td>UNIVERSITARY</td>\n",
       "      <td>COMMERCIAL</td>\n",
       "      <td>DATA</td>\n",
       "      <td>3.4</td>\n",
       "      <td>4600.8</td>\n",
       "      <td>19.6</td>\n",
       "      <td>88.0</td>\n",
       "    </tr>\n",
       "  </tbody>\n",
       "</table>\n",
       "</div>"
      ],
      "text/plain": [
       "      Unnamed: 0  EDAD     GENERO RESIDENCIA     NV_ESTUDIO ESTUDIO_PREV  \\\n",
       "8990        9995  29.0  MASCULINO  ARGENTINA       TERTIARY  DEVELOPMENT   \n",
       "8991        9996  34.0        NaN  ARGENTINA   UNIVERSITARY  ENGINEERING   \n",
       "8992        9997  28.0   FEMENINO  ARGENTINA  POST_GRADUATE  ENGINEERING   \n",
       "8993        9998  23.0  MASCULINO     MEXICO       TERTIARY  ENGINEERING   \n",
       "8994        9999  36.0  MASCULINO  ARGENTINA   UNIVERSITARY   COMMERCIAL   \n",
       "\n",
       "          TRACK_DH  AVG_DH  MINUTES_DH  EXPERIENCIA  DIAS_EMP  \n",
       "8990           NaN     4.0      4701.6          9.1      86.0  \n",
       "8991  PROGRAMACION     3.4      4646.2         16.8      95.0  \n",
       "8992     EJECUTIVO     NaN      3315.1          5.6      95.0  \n",
       "8993  PROGRAMACION     3.3      4437.8          0.9      87.0  \n",
       "8994          DATA     3.4      4600.8         19.6      88.0  "
      ]
     },
     "execution_count": 3,
     "metadata": {},
     "output_type": "execute_result"
    }
   ],
   "source": [
    "import pandas as pd\n",
    "\n",
    "!wget --no-check-certificate --content-disposition https://raw.githubusercontent.com/vanderlei-test/654986294958/master/train_dataset_digitalhouse.csv\n",
    "df_training_dataset = pd.read_csv(r'train_dataset_digitalhouse.csv')\n",
    "df_training_dataset.tail()"
   ]
  },
  {
   "cell_type": "markdown",
   "metadata": {},
   "source": [
    "## En el conjunto de datos proporcionado, tenemos las siguientes columnas:\n",
    "\n",
    "* Unnamed: 0\n",
    "* EDAD\n",
    "* GENERO\n",
    "* RESIDENCIA\n",
    "* NV_ESTUDIO\n",
    "* ESTUDIO_PREV\n",
    "* TRACK_DH\n",
    "* AVG_DH\n",
    "* MINUTES_DH\n",
    "* EXPERIENCIA\n",
    "* **DIAS_EMP = El valor \"target\" que se va a predecir**\n",
    "\n",
    "Podemos verificar fácilmente que faltan valores usando el siguiente código:\n",
    "\n",
    "```df_training_dataset.info()```\n",
    "\n",
    "Debe manejar cuidadosamente estos valores faltantes antes de crear un modelo de regresión."
   ]
  },
  {
   "cell_type": "code",
   "execution_count": 4,
   "metadata": {},
   "outputs": [
    {
     "name": "stdout",
     "output_type": "stream",
     "text": [
      "<class 'pandas.core.frame.DataFrame'>\n",
      "RangeIndex: 8995 entries, 0 to 8994\n",
      "Data columns (total 11 columns):\n",
      " #   Column        Non-Null Count  Dtype  \n",
      "---  ------        --------------  -----  \n",
      " 0   Unnamed: 0    8995 non-null   int64  \n",
      " 1   EDAD          7668 non-null   float64\n",
      " 2   GENERO        7620 non-null   object \n",
      " 3   RESIDENCIA    7638 non-null   object \n",
      " 4   NV_ESTUDIO    7623 non-null   object \n",
      " 5   ESTUDIO_PREV  7665 non-null   object \n",
      " 6   TRACK_DH      7714 non-null   object \n",
      " 7   AVG_DH        7651 non-null   float64\n",
      " 8   MINUTES_DH    7619 non-null   float64\n",
      " 9   EXPERIENCIA   7618 non-null   float64\n",
      " 10  DIAS_EMP      8995 non-null   float64\n",
      "dtypes: float64(5), int64(1), object(5)\n",
      "memory usage: 773.1+ KB\n"
     ]
    }
   ],
   "source": [
    "df_training_dataset.info()"
   ]
  },
  {
   "cell_type": "markdown",
   "metadata": {},
   "source": [
    "## Historgrama de varibales"
   ]
  },
  {
   "cell_type": "code",
   "execution_count": 5,
   "metadata": {},
   "outputs": [
    {
     "data": {
      "image/png": "[encoded data removed]",
      "text/plain": [
       "<Figure size 720x720 with 6 Axes>"
      ]
     },
     "metadata": {
      "needs_background": "light"
     },
     "output_type": "display_data"
    }
   ],
   "source": [
    "hist = df_training_dataset.hist(figsize=(10,10))"
   ]
  },
  {
   "cell_type": "markdown",
   "metadata": {},
   "source": [
    "### Parametros del Entorno"
   ]
  },
  {
   "cell_type": "code",
   "execution_count": 6,
   "metadata": {},
   "outputs": [],
   "source": [
    "semilla_aleatoria = 1234\n",
    "umbral_categoria = 10\n",
    "umbral_correlacion = 0.6\n",
    "pd.options.display.max_columns=21\n",
    "columna_target = 'DIAS_EMP'\n",
    "categorias_target = []"
   ]
  },
  {
   "cell_type": "code",
   "execution_count": 7,
   "metadata": {},
   "outputs": [
    {
     "name": "stdout",
     "output_type": "stream",
     "text": [
      "      GENERO  size\n",
      "0   FEMENINO  2390\n",
      "1  MASCULINO  5230\n",
      "  RESIDENCIA  size\n",
      "0  ARGENTINA  4843\n",
      "1     BRAZIL  1667\n",
      "2     MEXICO  1128\n",
      "      NV_ESTUDIO  size\n",
      "0  POST_GRADUATE   980\n",
      "1       TERTIARY  1762\n",
      "2   UNIVERSITARY  4881\n",
      "  ESTUDIO_PREV  size\n",
      "0     BUSINESS   203\n",
      "1   COMMERCIAL  2077\n",
      "2  DEVELOPMENT  1427\n",
      "3  ENGINEERING  3850\n",
      "4    MARKETING   108\n",
      "       TRACK_DH  size\n",
      "0          DATA  3464\n",
      "1     EJECUTIVO   698\n",
      "2     MARKETING   519\n",
      "3  PROGRAMACION  3033\n",
      "Columnas con frecuencias:  ['GENERO', 'RESIDENCIA', 'NV_ESTUDIO', 'ESTUDIO_PREV', 'TRACK_DH']\n",
      "Categorias target:  []\n"
     ]
    }
   ],
   "source": [
    "def obtener_frecuencia_columnas(df_temp):\n",
    "    columnas_con_frecuencia = [] \n",
    "    categorias_target=[]\n",
    "    for columna in df_temp.columns:    \n",
    "        df_frecuencia_cat=df_temp.groupby([columna],as_index=False).size()\n",
    "        \n",
    "        if len(df_frecuencia_cat)<umbral_categoria:\n",
    "            if columna != columna_target:\n",
    "                columnas_con_frecuencia.append(columna)\n",
    "            else:\n",
    "                categorias_target = df_frecuencia_cat[columna].values                \n",
    "            print(df_frecuencia_cat)\n",
    "    return columnas_con_frecuencia, categorias_target\n",
    "columnas_categoricas, categorias_target = obtener_frecuencia_columnas(df_training_dataset)\n",
    "print(\"Columnas con frecuencias: \",columnas_categoricas)\n",
    "print(\"Categorias target: \",categorias_target)"
   ]
  },
  {
   "cell_type": "markdown",
   "metadata": {},
   "source": [
    "## Hallar todas las correlaciones existentes entre las variables numéricas del conjunto de datos"
   ]
  },
  {
   "cell_type": "code",
   "execution_count": 8,
   "metadata": {},
   "outputs": [
    {
     "data": {
      "image/png": "[encoded data removed]",
      "text/plain": [
       "<Figure size 1440x720 with 2 Axes>"
      ]
     },
     "metadata": {
      "needs_background": "light"
     },
     "output_type": "display_data"
    }
   ],
   "source": [
    "def graficar_correlaciones(df_temp):\n",
    "    var_num = df_temp._get_numeric_data().columns.values.tolist()\n",
    "    plt.figure(figsize = (20, 10))\n",
    "    sns.heatmap(df_temp[var_num].corr().abs(), annot = True)\n",
    "    \n",
    "graficar_correlaciones(df_training_dataset)"
   ]
  },
  {
   "cell_type": "code",
   "execution_count": 9,
   "metadata": {},
   "outputs": [
    {
     "data": {
      "text/html": [
       "<div>\n",
       "<style scoped>\n",
       "    .dataframe tbody tr th:only-of-type {\n",
       "        vertical-align: middle;\n",
       "    }\n",
       "\n",
       "    .dataframe tbody tr th {\n",
       "        vertical-align: top;\n",
       "    }\n",
       "\n",
       "    .dataframe thead th {\n",
       "        text-align: right;\n",
       "    }\n",
       "</style>\n",
       "<table border=\"1\" class=\"dataframe\">\n",
       "  <thead>\n",
       "    <tr style=\"text-align: right;\">\n",
       "      <th></th>\n",
       "      <th>VariableA</th>\n",
       "      <th>VariableB</th>\n",
       "      <th>correlation</th>\n",
       "    </tr>\n",
       "  </thead>\n",
       "  <tbody>\n",
       "    <tr>\n",
       "      <th>10</th>\n",
       "      <td>EDAD</td>\n",
       "      <td>EXPERIENCIA</td>\n",
       "      <td>0.986745</td>\n",
       "    </tr>\n",
       "    <tr>\n",
       "      <th>15</th>\n",
       "      <td>AVG_DH</td>\n",
       "      <td>MINUTES_DH</td>\n",
       "      <td>0.863842</td>\n",
       "    </tr>\n",
       "    <tr>\n",
       "      <th>20</th>\n",
       "      <td>MINUTES_DH</td>\n",
       "      <td>AVG_DH</td>\n",
       "      <td>0.863842</td>\n",
       "    </tr>\n",
       "    <tr>\n",
       "      <th>25</th>\n",
       "      <td>EXPERIENCIA</td>\n",
       "      <td>EDAD</td>\n",
       "      <td>0.986745</td>\n",
       "    </tr>\n",
       "  </tbody>\n",
       "</table>\n",
       "</div>"
      ],
      "text/plain": [
       "      VariableA    VariableB  correlation\n",
       "10         EDAD  EXPERIENCIA     0.986745\n",
       "15       AVG_DH   MINUTES_DH     0.863842\n",
       "20   MINUTES_DH       AVG_DH     0.863842\n",
       "25  EXPERIENCIA         EDAD     0.986745"
      ]
     },
     "metadata": {},
     "output_type": "display_data"
    }
   ],
   "source": [
    "def mostrar_correlaciones(df_temp):\n",
    "    var_num = df_temp._get_numeric_data().columns.values.tolist()\n",
    "    df_cols = df_temp[var_num].corr().stack().reset_index()\n",
    "    df_cols.columns = ['VariableA','VariableB','correlation']\n",
    "    df_corr = df_cols[(df_cols['correlation']>0.6)&(df_cols['correlation']!=1)]\n",
    "    display(df_corr)\n",
    "mostrar_correlaciones(df_training_dataset)"
   ]
  },
  {
   "cell_type": "code",
   "execution_count": 10,
   "metadata": {},
   "outputs": [],
   "source": [
    "class DropColumns(BaseEstimator, TransformerMixin):\n",
    "    def __init__(self, columns):\n",
    "        self.columns = columns\n",
    "\n",
    "    def fit(self, X, y=None):\n",
    "        return self\n",
    "    \n",
    "    def transform(self, X):\n",
    "        # Primero copiamos el dataframe de datos de entrada 'X'\n",
    "        data = X.copy()\n",
    "        # Devolvemos un nuevo dataframe de datos sin las columnas no deseadas\n",
    "        return data.drop(labels=self.columns, axis='columns')\n",
    "    \n",
    "class DataFrameImputer(TransformerMixin):\n",
    "    def fit(self, X, y=None):\n",
    "        self.fill = pd.Series([X[c].value_counts().index[0]\n",
    "            if X[c].dtype == np.dtype('O') else X[c].mean() for c in X],index=X.columns)\n",
    "        return self\n",
    "\n",
    "    def transform(self, X, y=None):\n",
    "        return X.fillna(self.fill)\n",
    "    \n",
    "class DataScaleImputer(TransformerMixin):\n",
    "    def __init__(self, columns):\n",
    "        self.columns = columns\n",
    "        \n",
    "    def fit(self, X, y=None):\n",
    "        return self\n",
    "    \n",
    "    def transform(self, X):\n",
    "        df_temp = X.copy()\n",
    "        features = df_temp.columns.drop(self.columns)\n",
    "        transformer = ColumnTransformer(transformers=[('scaler',Normalizer(),features.values)])\n",
    "        X_transform = transformer.fit_transform(df_temp[features.values])\n",
    "        X_imputed_df = pd.DataFrame(data = X_transform, index = X.index, columns = features.values)        \n",
    "        return pd.concat([df_temp[self.columns],X_imputed_df],axis=1)\n",
    "    \n",
    "class DataLabelEncoderTransform(TransformerMixin):\n",
    "    def __init__(self, columns):\n",
    "        self.columns = columns\n",
    "        \n",
    "    def fit(self, X):\n",
    "        return self\n",
    "    \n",
    "    def transform(self, X):    \n",
    "        df_temp = X.copy()\n",
    "        features = df_temp.columns.drop(self.columns)\n",
    "        encoder = LabelEncoder()        \n",
    "        df_encoder= df_temp[self.columns].apply(encoder.fit_transform)             \n",
    "        return pd.concat([df_temp[features],df_encoder],axis=1)\n",
    "    \n",
    "class DataOneHotEncoderTransform(TransformerMixin):\n",
    "    def __init__(self, columns):\n",
    "        self.columns = columns\n",
    "        \n",
    "    def fit(self, X, y=None):\n",
    "        return self\n",
    "    \n",
    "    def transform(self, X):                \n",
    "        return pd.get_dummies(X, columns=self.columns)   "
   ]
  },
  {
   "cell_type": "code",
   "execution_count": 11,
   "metadata": {},
   "outputs": [],
   "source": [
    "def validar_nulos(df_temp):\n",
    "    print(df_temp.shape)\n",
    "    print(\"Valores nulos del df_training_dataset despues de la transformación DropNA: \\n\\n{}\\n\".format(df_temp.isnull().sum(axis = 0)))"
   ]
  },
  {
   "cell_type": "code",
   "execution_count": 12,
   "metadata": {},
   "outputs": [
    {
     "name": "stdout",
     "output_type": "stream",
     "text": [
      "(4666, 11)\n",
      "Valores nulos del df_training_dataset despues de la transformación DropNA: \n",
      "\n",
      "Unnamed: 0        0\n",
      "EDAD              0\n",
      "GENERO          713\n",
      "RESIDENCIA      688\n",
      "NV_ESTUDIO      693\n",
      "ESTUDIO_PREV    696\n",
      "TRACK_DH        637\n",
      "AVG_DH            0\n",
      "MINUTES_DH        0\n",
      "EXPERIENCIA       0\n",
      "DIAS_EMP          0\n",
      "dtype: int64\n",
      "\n"
     ]
    }
   ],
   "source": [
    "df_training_dataset = df_training_dataset.dropna(axis='index', how='any', subset=['AVG_DH', 'MINUTES_DH','EXPERIENCIA','EDAD'])\n",
    "validar_nulos(df_training_dataset)"
   ]
  },
  {
   "cell_type": "code",
   "execution_count": 13,
   "metadata": {},
   "outputs": [
    {
     "name": "stdout",
     "output_type": "stream",
     "text": [
      "(4666, 11)\n",
      "Valores nulos del df_training_dataset despues de la transformación DropNA: \n",
      "\n",
      "Unnamed: 0      0\n",
      "EDAD            0\n",
      "GENERO          0\n",
      "RESIDENCIA      0\n",
      "NV_ESTUDIO      0\n",
      "ESTUDIO_PREV    0\n",
      "TRACK_DH        0\n",
      "AVG_DH          0\n",
      "MINUTES_DH      0\n",
      "EXPERIENCIA     0\n",
      "DIAS_EMP        0\n",
      "dtype: int64\n",
      "\n"
     ]
    }
   ],
   "source": [
    "df2 = DataFrameImputer().fit_transform(df_training_dataset)\n",
    "validar_nulos(df2)"
   ]
  },
  {
   "cell_type": "code",
   "execution_count": 14,
   "metadata": {},
   "outputs": [
    {
     "ename": "NameError",
     "evalue": "name 'columnas_no_numericas' is not defined",
     "output_type": "error",
     "traceback": [
      "\u001b[0;31m---------------------------------------------------------------------------\u001b[0m",
      "\u001b[0;31mNameError\u001b[0m                                 Traceback (most recent call last)",
      "\u001b[0;32m<ipython-input-14-dc05d2d36bed>\u001b[0m in \u001b[0;36m<module>\u001b[0;34m\u001b[0m\n\u001b[0;32m----> 1\u001b[0;31m \u001b[0mcolumnas_encoder\u001b[0m \u001b[0;34m=\u001b[0m  \u001b[0;34m[\u001b[0m\u001b[0mv\u001b[0m \u001b[0;32mfor\u001b[0m \u001b[0mv\u001b[0m \u001b[0;32min\u001b[0m \u001b[0mcolumnas_no_numericas\u001b[0m \u001b[0;32mif\u001b[0m \u001b[0mv\u001b[0m \u001b[0;32mnot\u001b[0m \u001b[0;32min\u001b[0m \u001b[0;34m[\u001b[0m\u001b[0mcolumna_target\u001b[0m\u001b[0;34m]\u001b[0m \u001b[0;34m]\u001b[0m\u001b[0;34m\u001b[0m\u001b[0;34m\u001b[0m\u001b[0m\n\u001b[0m\u001b[1;32m      2\u001b[0m \u001b[0mdf3\u001b[0m \u001b[0;34m=\u001b[0m \u001b[0mDataLabelEncoderTransform\u001b[0m\u001b[0;34m(\u001b[0m\u001b[0mcolumns\u001b[0m\u001b[0;34m=\u001b[0m\u001b[0mcolumnas_encoder\u001b[0m\u001b[0;34m)\u001b[0m\u001b[0;34m.\u001b[0m\u001b[0mfit_transform\u001b[0m\u001b[0;34m(\u001b[0m\u001b[0mdf2\u001b[0m\u001b[0;34m)\u001b[0m\u001b[0;34m\u001b[0m\u001b[0;34m\u001b[0m\u001b[0m\n\u001b[1;32m      3\u001b[0m \u001b[0mvalidar_nulos\u001b[0m\u001b[0;34m(\u001b[0m\u001b[0mdf3\u001b[0m\u001b[0;34m)\u001b[0m\u001b[0;34m\u001b[0m\u001b[0;34m\u001b[0m\u001b[0m\n",
      "\u001b[0;31mNameError\u001b[0m: name 'columnas_no_numericas' is not defined"
     ]
    }
   ],
   "source": [
    "columnas_encoder =  [v for v in columnas_no_numericas if v not in [columna_target] ]\n",
    "df3 = DataLabelEncoderTransform(columns=columnas_encoder).fit_transform(df2)\n",
    "validar_nulos(df3)"
   ]
  },
  {
   "cell_type": "code",
   "execution_count": null,
   "metadata": {},
   "outputs": [],
   "source": [
    "def graficar_carateristicas(df_temp,col_target):\n",
    "    for feature in df_temp.columns.values:\n",
    "        if feature != col_target:\n",
    "            sns.jointplot(x=feature,y=col_target,data=df_temp,color='c')\n",
    "graficar_carateristicas(df3,columna_target)"
   ]
  },
  {
   "cell_type": "code",
   "execution_count": null,
   "metadata": {},
   "outputs": [],
   "source": [
    "df4 = DataScaleImputer(columns=columnas_no_numericas).fit_transform(df3)\n",
    "validar_nulos(df4)"
   ]
  },
  {
   "cell_type": "code",
   "execution_count": null,
   "metadata": {},
   "outputs": [],
   "source": [
    "graficar_carateristicas(df4,columna_target)"
   ]
  },
  {
   "cell_type": "code",
   "execution_count": null,
   "metadata": {},
   "outputs": [],
   "source": [
    "columnas_numericas = df_training_dataset._get_numeric_data().columns.values.tolist()\n",
    "columnas = df_training_dataset.columns.values.tolist()\n",
    "columnas_no_numericas = [v for v in columnas if v not in columnas_numericas]\n",
    "print(columnas_numericas)\n",
    "print(columnas_no_numericas)"
   ]
  },
  {
   "cell_type": "code",
   "execution_count": null,
   "metadata": {},
   "outputs": [],
   "source": []
  },
  {
   "cell_type": "code",
   "execution_count": null,
   "metadata": {},
   "outputs": [],
   "source": []
  },
  {
   "cell_type": "code",
   "execution_count": null,
   "metadata": {},
   "outputs": [],
   "source": []
  },
  {
   "cell_type": "markdown",
   "metadata": {},
   "source": [
    "<hr>"
   ]
  },
  {
   "cell_type": "markdown",
   "metadata": {},
   "source": [
    "## Algunos consejos antes de entrenar a un modelo:\n",
    "\n",
    "1. Manejar valores perdidos\n",
    "\n",
    "2. Manejar variables categóricas\n",
    "\n",
    "<hr>\n",
    "\n",
    "## A continuación, le brindamos una plantilla simple para que sepa cómo estructurar las entradas y salidas de su modelo"
   ]
  },
  {
   "cell_type": "markdown",
   "metadata": {},
   "source": [
    "### Removiendo columnas"
   ]
  },
  {
   "cell_type": "markdown",
   "metadata": {},
   "source": [
    "### Removendo valores NaN"
   ]
  },
  {
   "cell_type": "code",
   "execution_count": null,
   "metadata": {},
   "outputs": [],
   "source": [
    "df_training_dataset_2 = df_training_dataset_1.dropna()\n",
    "df_training_dataset_2.tail()"
   ]
  },
  {
   "cell_type": "code",
   "execution_count": null,
   "metadata": {},
   "outputs": [],
   "source": [
    "df5 = DropColumns(columns=['Unnamed: 0','EDAD','EXPERIENCIA']).fit_transform(df2)\n",
    "validar_nulos(df5)"
   ]
  },
  {
   "cell_type": "markdown",
   "metadata": {},
   "source": [
    "### Codificando variables categóricas"
   ]
  },
  {
   "cell_type": "code",
   "execution_count": null,
   "metadata": {},
   "outputs": [],
   "source": [
    "# Columnas One-hot-encoding del dataset usando el metodo de Pandas ``get_dummies`` (demontración)\n",
    "#df_training_dataset_3 = pd.get_dummies(df_training_dataset_2, columns=['GENERO','RESIDENCIA','NV_ESTUDIO','NV_ESTUDIO','TRACK_DH','ESTUDIO_PREV'])\n",
    "#df_training_dataset_3.tail()\n",
    "\n",
    "carateristicas_encoder = ['GENERO','RESIDENCIA','NV_ESTUDIO','TRACK_DH','ESTUDIO_PREV']\n",
    "df_training_dataset_3 = DataOneHotEncoderTransform(columns=carateristicas_encoder).fit_transform(df5)\n",
    "#df_training_dataset_3 = df5\n",
    "validar_nulos(df_training_dataset_3)"
   ]
  },
  {
   "cell_type": "markdown",
   "metadata": {},
   "source": [
    "### Seleccionando las columnas \"features\" y \"target\""
   ]
  },
  {
   "cell_type": "code",
   "execution_count": null,
   "metadata": {},
   "outputs": [],
   "source": [
    "df_training_dataset_3.columns"
   ]
  },
  {
   "cell_type": "code",
   "execution_count": null,
   "metadata": {},
   "outputs": [],
   "source": [
    "columnas_modelo = [v for v in df_training_dataset_3.columns if v not in ['DIAS_EMP']]\n",
    "print(columnas_modelo)\n",
    "features = df_training_dataset_3[columnas_modelo\n",
    "]\n",
    "\n",
    "target = df_training_dataset_3['DIAS_EMP']  ## NO CAMBIE EL NOMBRE DE LA VARIABLE \"target\"."
   ]
  },
  {
   "cell_type": "markdown",
   "metadata": {},
   "source": [
    "### Dividiendo el conjunto de datos para una \"prueba ciega\""
   ]
  },
  {
   "cell_type": "code",
   "execution_count": null,
   "metadata": {},
   "outputs": [],
   "source": [
    "from sklearn.model_selection import train_test_split\n",
    "\n",
    "X_train, X_test, y_train, y_test = train_test_split(features, target, test_size=0.2, random_state=133)"
   ]
  },
  {
   "cell_type": "markdown",
   "metadata": {},
   "source": [
    "### Entrenando un modelo de regresión lineal simple"
   ]
  },
  {
   "cell_type": "code",
   "execution_count": null,
   "metadata": {},
   "outputs": [],
   "source": [
    "from sklearn.linear_model import LinearRegression\n",
    "regression_model = LinearRegression().fit(X_train, y_train)"
   ]
  },
  {
   "cell_type": "markdown",
   "metadata": {},
   "source": [
    "### Evaluando el modelo de regresión con el método  \"score()\" de sklearn"
   ]
  },
  {
   "cell_type": "code",
   "execution_count": null,
   "metadata": {},
   "outputs": [],
   "source": [
    "regression_model.score(X_test, y_test)"
   ]
  },
  {
   "cell_type": "code",
   "execution_count": null,
   "metadata": {},
   "outputs": [],
   "source": [
    "def graficar_r2_scores(estimator, train_x, train_y,test_x,test_y,nparts=5,jobs=None):\n",
    "    kfold = KFold(n_splits=nparts,shuffle=True, random_state=semilla_aleatoria)\n",
    "    fig,axes = plt.subplots(figsize=(7, 3))\n",
    "    axes.set_title(\"R2/Nro. Fold\")\n",
    "    axes.set_xlabel(\"Nro. Fold\")\n",
    "    axes.set_ylabel(\"R2\")    \n",
    "    train_scores = cross_val_score(estimator, train_x, train_y, cv = kfold, n_jobs=jobs,scoring=\"r2\")\n",
    "    test_scores = cross_val_score(estimator, test_x, test_y, cv = kfold, n_jobs=jobs,scoring=\"r2\")        \n",
    "    train_sizes = range(1,nparts+1,1)    \n",
    "    axes.grid()    \n",
    "    axes.plot(train_sizes, train_scores, 'o-', color=\"r\",label=\"Datos Entrenamiento\")\n",
    "    axes.plot(train_sizes, test_scores, 'o-', color=\"g\",label=\"Validacion Cruzada\")\n",
    "    axes.legend(loc=\"best\")\n",
    "    return train_scores"
   ]
  },
  {
   "cell_type": "code",
   "execution_count": null,
   "metadata": {},
   "outputs": [],
   "source": [
    "graficar_r2_scores(regression_model,X_train,y_train,X_test,y_test,nparts=5,jobs=2)"
   ]
  },
  {
   "cell_type": "code",
   "execution_count": null,
   "metadata": {},
   "outputs": [],
   "source": [
    "reg_rndforest = RandomForestRegressor(n_estimators=100)\n",
    "reg_rndforest.fit(X_train, y_train)"
   ]
  },
  {
   "cell_type": "code",
   "execution_count": null,
   "metadata": {},
   "outputs": [],
   "source": [
    "reg_rndforest.score(X_test, y_test)"
   ]
  },
  {
   "cell_type": "code",
   "execution_count": null,
   "metadata": {},
   "outputs": [],
   "source": [
    "from sklearn.feature_selection import SelectFromModel\n",
    "from xgboost import XGBRegressor\n",
    "from sklearn.linear_model import LogisticRegression\n",
    "fs = SelectFromModel(RandomForestRegressor(n_estimators=1000),max_features=2)\n",
    "fs.fit(X_train,y_train)\n",
    "X_tr = fs.transform(X_train);\n",
    "X_te = fs.transform(X_test);#get the features from X determined by fs\n",
    " \n",
    "#Use our selected model to fit the selected x = X_fs\n",
    "model = model = LinearRegression()\n",
    "\n",
    " \n",
    "fitted = model.fit(X_tr,y_train)\n",
    "yhat = model.predict(X_te)\n",
    " \n"
   ]
  },
  {
   "cell_type": "code",
   "execution_count": null,
   "metadata": {},
   "outputs": [],
   "source": [
    "from sklearn.metrics import accuracy_score\n",
    "model.score(X_te, y_test)"
   ]
  },
  {
   "cell_type": "code",
   "execution_count": null,
   "metadata": {},
   "outputs": [],
   "source": [
    "from sklearn.linear_model import ElasticNet, LassoLars, Ridge, LinearRegression, Lasso\n",
    "from sklearn.preprocessing import LabelEncoder, StandardScaler, PolynomialFeatures\n",
    "poly = PolynomialFeatures(3)\n",
    "x_train = poly.fit_transform(X_train)\n",
    "x_dev = poly.fit_transform(X_test)\n",
    "\n",
    "clf = LinearRegression()\n",
    "clf.fit(x_train,y_train)"
   ]
  },
  {
   "cell_type": "code",
   "execution_count": null,
   "metadata": {},
   "outputs": [],
   "source": [
    "clf.score(x_dev, y_test)"
   ]
  },
  {
   "cell_type": "code",
   "execution_count": null,
   "metadata": {},
   "outputs": [],
   "source": [
    "# Initialising the ANN\n",
    "model = keras.Sequential()\n",
    "\n",
    "# Adding the input layer and the first hidden layer\n",
    "model.add(layers.Dense(64, activation = 'relu', input_dim = 6))\n",
    "model.add(layers.Dense(64, activation='relu'))\n",
    "model.add(layers.Dense(units = 1))\n",
    "\n",
    "optimizer = tf.keras.optimizers.RMSprop(0.001)\n",
    "\n",
    "model.compile(loss='mse',\n",
    "                optimizer=optimizer,\n",
    "                metrics=['mae', 'mse'])\n",
    "\n",
    "# Fitting the ANN to the Training set\n",
    "model.fit(X_train, y_train, batch_size = 10, epochs = 100,verbose=0)\n",
    "\n",
    "y_pred = model.predict(X_test)\n",
    "\n",
    "plt.plot(y_test, color = 'red', label = 'Real data')\n",
    "plt.plot(y_pred, color = 'blue', label = 'Predicted data')\n",
    "plt.title('Prediction')\n",
    "plt.legend()\n",
    "plt.show()"
   ]
  },
  {
   "cell_type": "code",
   "execution_count": null,
   "metadata": {},
   "outputs": [],
   "source": [
    "score = model.evaluate(X_test, y_test,\n",
    "                            batch_size=2)\n",
    "print('Test score:', score)"
   ]
  },
  {
   "cell_type": "markdown",
   "metadata": {},
   "source": [
    "<hr>"
   ]
  },
  {
   "cell_type": "markdown",
   "metadata": {},
   "source": [
    "## Completar los datos necesarios para entregar la solución\n",
    "\n",
    "### Como entrega de su solución, esperamos los resultados numéricos predichos por su modelo. Como entrada utilizará el archivo \"to_be_scored.csv\""
   ]
  },
  {
   "cell_type": "code",
   "execution_count": null,
   "metadata": {},
   "outputs": [],
   "source": [
    "!wget --no-check-certificate --content-disposition https://raw.githubusercontent.com/vanderlei-test/654986294958/master/to_be_scored_digitalhouse.csv\n",
    "df_to_be_scored = pd.read_csv(r'to_be_scored_digitalhouse.csv')\n",
    "df_to_be_scored.tail()"
   ]
  },
  {
   "cell_type": "markdown",
   "metadata": {},
   "source": [
    "# ¡Atención!\n",
    "\n",
    "### El marco de datos ``to_be_scored`` es su \"hoja de evaluación\". Tenga en cuenta que la columna \"target\" no existe en esta muestra, por lo que no se puede utilizar para modelos de entrenamiento basados en el aprendizaje supervisado."
   ]
  },
  {
   "cell_type": "markdown",
   "metadata": {},
   "source": [
    "# ¡Atención!\n",
    "\n",
    "### Debes realizar los mismos pasos de procesamiento previo que hiciste en el conjunto de datos de entrenamiento antes de calificar la \"hoja de respuestas\""
   ]
  },
  {
   "cell_type": "code",
   "execution_count": null,
   "metadata": {
    "scrolled": true
   },
   "outputs": [],
   "source": [
    "df_to_be_scored_1 = df_to_be_scored.drop(columns=['Unnamed: 0', 'RESIDENCIA', 'NV_ESTUDIO', 'ESTUDIO_PREV', 'TRACK_DH'], inplace=False)\n",
    "\n",
    "df_to_be_scored_2 = df_to_be_scored_1.dropna()\n",
    "\n",
    "df_to_be_scored_3 = pd.get_dummies(df_to_be_scored_2, columns=['GENERO'])\n",
    "df_to_be_scored_3.tail()"
   ]
  },
  {
   "cell_type": "code",
   "execution_count": null,
   "metadata": {},
   "outputs": [],
   "source": [
    "df_to_be_scored_3.columns"
   ]
  },
  {
   "cell_type": "markdown",
   "metadata": {},
   "source": [
    "<hr>\n",
    "\n",
    "### Hacer las predicciones con el método \"predict()\" de sklearn y agregar los resultados en el marco de datos de la \"hoja de evaluación\""
   ]
  },
  {
   "cell_type": "code",
   "execution_count": null,
   "metadata": {
    "scrolled": true
   },
   "outputs": [],
   "source": [
    "y_pred = regression_model.predict(df_to_be_scored_3)\n",
    "df_to_be_scored_3['target'] = y_pred\n",
    "df_to_be_scored_3.tail()"
   ]
  },
  {
   "cell_type": "markdown",
   "metadata": {},
   "source": [
    "# ¡Atención!\n",
    "\n",
    "### La columna agregada con los resultados debe llamarse \"target\", de lo contrario, su envío fallará."
   ]
  },
  {
   "cell_type": "markdown",
   "metadata": {},
   "source": [
    "<hr>\n",
    "\n",
    "### Exportar el marco de datos de resultados como un archivo .csv a su proyecto de Watson Studio."
   ]
  },
  {
   "cell_type": "code",
   "execution_count": null,
   "metadata": {},
   "outputs": [],
   "source": [
    "project.save_data(file_name=\"results.csv\", data=df_to_be_scored_3.to_csv(index=False))"
   ]
  },
  {
   "cell_type": "code",
   "execution_count": null,
   "metadata": {},
   "outputs": [],
   "source": []
  }
 ],
 "metadata": {
  "kernelspec": {
   "display_name": "Python 3",
   "language": "python",
   "name": "python3"
  },
  "language_info": {
   "codemirror_mode": {
    "name": "ipython",
    "version": 3
   },
   "file_extension": ".py",
   "mimetype": "text/x-python",
   "name": "python",
   "nbconvert_exporter": "python",
   "pygments_lexer": "ipython3",
   "version": "3.8.2"
  }
 },
 "nbformat": 4,
 "nbformat_minor": 4
}
